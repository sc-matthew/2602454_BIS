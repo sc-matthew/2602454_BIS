{
 "cells": [
  {
   "cell_type": "markdown",
   "id": "86e1940f",
   "metadata": {
    "toc-hr-collapsed": false
   },
   "source": [
    "# Interactive DataFrame\n",
    "\n",
    "- doc: https://ipywidgets.readthedocs.io/en/latest/examples/Widget%20List.html\n",
    "- install ipywidgets: `pip install ipywidgets`\n"
   ]
  },
  {
   "cell_type": "markdown",
   "id": "de319a68",
   "metadata": {},
   "source": [
    "---\n",
    "* author:  [Prasert Kanawattanachai](prasert.k@chula.ac.th)\n",
    "* YouTube: https://www.youtube.com/prasertcbs\n",
    "* [Chulalongkorn Business School](https://www.cbs.chula.ac.th/en/)\n",
    "---\n"
   ]
  },
  {
   "cell_type": "code",
   "execution_count": 6,
   "id": "379d9d19",
   "metadata": {},
   "outputs": [],
   "source": [
    "import pandas as pd\n",
    "import seaborn as sns\n",
    "import matplotlib.pyplot as plt\n",
    "import plotly.express as px\n",
    "\n",
    "import ipywidgets as widgets\n",
    "from ipywidgets import interact\n",
    "\n",
    "from pandas.plotting import register_matplotlib_converters\n",
    "register_matplotlib_converters()\n",
    "\n",
    "%matplotlib inline\n",
    "# %config InlineBackend.figure_format = 'retina'\n",
    "%config InlineBackend.figure_format = 'svg'\n"
   ]
  },
  {
   "cell_type": "code",
   "execution_count": 7,
   "id": "7ee92e4a",
   "metadata": {},
   "outputs": [
    {
     "name": "stdout",
     "output_type": "stream",
     "text": [
      "pandas version: 1.5.2\n",
      "2023-01-25 10:05:32.414027\n"
     ]
    }
   ],
   "source": [
    "print(f\"pandas version: {pd.__version__}\")\n",
    "print(pd.Timestamp.now())\n"
   ]
  },
  {
   "cell_type": "markdown",
   "id": "98eaf7ba",
   "metadata": {},
   "source": [
    "# McDonald menu\n"
   ]
  },
  {
   "cell_type": "code",
   "execution_count": 8,
   "id": "dc106c25",
   "metadata": {},
   "outputs": [
    {
     "data": {
      "text/html": [
       "<div>\n",
       "<style scoped>\n",
       "    .dataframe tbody tr th:only-of-type {\n",
       "        vertical-align: middle;\n",
       "    }\n",
       "\n",
       "    .dataframe tbody tr th {\n",
       "        vertical-align: top;\n",
       "    }\n",
       "\n",
       "    .dataframe thead th {\n",
       "        text-align: right;\n",
       "    }\n",
       "</style>\n",
       "<table border=\"1\" class=\"dataframe\">\n",
       "  <thead>\n",
       "    <tr style=\"text-align: right;\">\n",
       "      <th></th>\n",
       "      <th>Category</th>\n",
       "      <th>Item</th>\n",
       "      <th>Serving Size</th>\n",
       "      <th>Calories</th>\n",
       "      <th>Calories from Fat</th>\n",
       "      <th>Total Fat</th>\n",
       "    </tr>\n",
       "  </thead>\n",
       "  <tbody>\n",
       "    <tr>\n",
       "      <th>0</th>\n",
       "      <td>Breakfast</td>\n",
       "      <td>Egg McMuffin</td>\n",
       "      <td>4.8 oz (136 g)</td>\n",
       "      <td>300</td>\n",
       "      <td>120</td>\n",
       "      <td>13.0</td>\n",
       "    </tr>\n",
       "    <tr>\n",
       "      <th>1</th>\n",
       "      <td>Breakfast</td>\n",
       "      <td>Egg White Delight</td>\n",
       "      <td>4.8 oz (135 g)</td>\n",
       "      <td>250</td>\n",
       "      <td>70</td>\n",
       "      <td>8.0</td>\n",
       "    </tr>\n",
       "    <tr>\n",
       "      <th>2</th>\n",
       "      <td>Breakfast</td>\n",
       "      <td>Sausage McMuffin</td>\n",
       "      <td>3.9 oz (111 g)</td>\n",
       "      <td>370</td>\n",
       "      <td>200</td>\n",
       "      <td>23.0</td>\n",
       "    </tr>\n",
       "    <tr>\n",
       "      <th>3</th>\n",
       "      <td>Breakfast</td>\n",
       "      <td>Sausage McMuffin with Egg</td>\n",
       "      <td>5.7 oz (161 g)</td>\n",
       "      <td>450</td>\n",
       "      <td>250</td>\n",
       "      <td>28.0</td>\n",
       "    </tr>\n",
       "    <tr>\n",
       "      <th>4</th>\n",
       "      <td>Breakfast</td>\n",
       "      <td>Sausage McMuffin with Egg Whites</td>\n",
       "      <td>5.7 oz (161 g)</td>\n",
       "      <td>400</td>\n",
       "      <td>210</td>\n",
       "      <td>23.0</td>\n",
       "    </tr>\n",
       "    <tr>\n",
       "      <th>...</th>\n",
       "      <td>...</td>\n",
       "      <td>...</td>\n",
       "      <td>...</td>\n",
       "      <td>...</td>\n",
       "      <td>...</td>\n",
       "      <td>...</td>\n",
       "    </tr>\n",
       "    <tr>\n",
       "      <th>255</th>\n",
       "      <td>Smoothies &amp; Shakes</td>\n",
       "      <td>McFlurry with Oreo Cookies (Small)</td>\n",
       "      <td>10.1 oz (285 g)</td>\n",
       "      <td>510</td>\n",
       "      <td>150</td>\n",
       "      <td>17.0</td>\n",
       "    </tr>\n",
       "    <tr>\n",
       "      <th>256</th>\n",
       "      <td>Smoothies &amp; Shakes</td>\n",
       "      <td>McFlurry with Oreo Cookies (Medium)</td>\n",
       "      <td>13.4 oz (381 g)</td>\n",
       "      <td>690</td>\n",
       "      <td>200</td>\n",
       "      <td>23.0</td>\n",
       "    </tr>\n",
       "    <tr>\n",
       "      <th>257</th>\n",
       "      <td>Smoothies &amp; Shakes</td>\n",
       "      <td>McFlurry with Oreo Cookies (Snack)</td>\n",
       "      <td>6.7 oz (190 g)</td>\n",
       "      <td>340</td>\n",
       "      <td>100</td>\n",
       "      <td>11.0</td>\n",
       "    </tr>\n",
       "    <tr>\n",
       "      <th>258</th>\n",
       "      <td>Smoothies &amp; Shakes</td>\n",
       "      <td>McFlurry with Reese's Peanut Butter Cups (Medium)</td>\n",
       "      <td>14.2 oz (403 g)</td>\n",
       "      <td>810</td>\n",
       "      <td>290</td>\n",
       "      <td>32.0</td>\n",
       "    </tr>\n",
       "    <tr>\n",
       "      <th>259</th>\n",
       "      <td>Smoothies &amp; Shakes</td>\n",
       "      <td>McFlurry with Reese's Peanut Butter Cups (Snack)</td>\n",
       "      <td>7.1 oz (202 g)</td>\n",
       "      <td>410</td>\n",
       "      <td>150</td>\n",
       "      <td>16.0</td>\n",
       "    </tr>\n",
       "  </tbody>\n",
       "</table>\n",
       "<p>260 rows × 6 columns</p>\n",
       "</div>"
      ],
      "text/plain": [
       "               Category                                               Item  \\\n",
       "0             Breakfast                                       Egg McMuffin   \n",
       "1             Breakfast                                  Egg White Delight   \n",
       "2             Breakfast                                   Sausage McMuffin   \n",
       "3             Breakfast                          Sausage McMuffin with Egg   \n",
       "4             Breakfast                   Sausage McMuffin with Egg Whites   \n",
       "..                  ...                                                ...   \n",
       "255  Smoothies & Shakes                 McFlurry with Oreo Cookies (Small)   \n",
       "256  Smoothies & Shakes                McFlurry with Oreo Cookies (Medium)   \n",
       "257  Smoothies & Shakes                 McFlurry with Oreo Cookies (Snack)   \n",
       "258  Smoothies & Shakes  McFlurry with Reese's Peanut Butter Cups (Medium)   \n",
       "259  Smoothies & Shakes   McFlurry with Reese's Peanut Butter Cups (Snack)   \n",
       "\n",
       "        Serving Size  Calories  Calories from Fat  Total Fat  \n",
       "0     4.8 oz (136 g)       300                120       13.0  \n",
       "1     4.8 oz (135 g)       250                 70        8.0  \n",
       "2     3.9 oz (111 g)       370                200       23.0  \n",
       "3     5.7 oz (161 g)       450                250       28.0  \n",
       "4     5.7 oz (161 g)       400                210       23.0  \n",
       "..               ...       ...                ...        ...  \n",
       "255  10.1 oz (285 g)       510                150       17.0  \n",
       "256  13.4 oz (381 g)       690                200       23.0  \n",
       "257   6.7 oz (190 g)       340                100       11.0  \n",
       "258  14.2 oz (403 g)       810                290       32.0  \n",
       "259   7.1 oz (202 g)       410                150       16.0  \n",
       "\n",
       "[260 rows x 6 columns]"
      ]
     },
     "execution_count": 8,
     "metadata": {},
     "output_type": "execute_result"
    }
   ],
   "source": [
    "df = pd.read_csv(\n",
    "    \"https://github.com/prasertcbs/basic-dataset/raw/master/mcdonald_menu.csv\",\n",
    "    usecols=list(range(6)),\n",
    ")\n",
    "df\n"
   ]
  },
  {
   "cell_type": "code",
   "execution_count": 9,
   "id": "163cf2e3",
   "metadata": {},
   "outputs": [
    {
     "data": {
      "text/html": [
       "<div>\n",
       "<style scoped>\n",
       "    .dataframe tbody tr th:only-of-type {\n",
       "        vertical-align: middle;\n",
       "    }\n",
       "\n",
       "    .dataframe tbody tr th {\n",
       "        vertical-align: top;\n",
       "    }\n",
       "\n",
       "    .dataframe thead th {\n",
       "        text-align: right;\n",
       "    }\n",
       "</style>\n",
       "<table border=\"1\" class=\"dataframe\">\n",
       "  <thead>\n",
       "    <tr style=\"text-align: right;\">\n",
       "      <th></th>\n",
       "      <th>Category</th>\n",
       "      <th>Item</th>\n",
       "      <th>Serving Size</th>\n",
       "      <th>Calories</th>\n",
       "      <th>Calories from Fat</th>\n",
       "      <th>Total Fat</th>\n",
       "    </tr>\n",
       "  </thead>\n",
       "  <tbody>\n",
       "    <tr>\n",
       "      <th>255</th>\n",
       "      <td>Smoothies &amp; Shakes</td>\n",
       "      <td>McFlurry with Oreo Cookies (Small)</td>\n",
       "      <td>10.1 oz (285 g)</td>\n",
       "      <td>510</td>\n",
       "      <td>150</td>\n",
       "      <td>17.0</td>\n",
       "    </tr>\n",
       "    <tr>\n",
       "      <th>256</th>\n",
       "      <td>Smoothies &amp; Shakes</td>\n",
       "      <td>McFlurry with Oreo Cookies (Medium)</td>\n",
       "      <td>13.4 oz (381 g)</td>\n",
       "      <td>690</td>\n",
       "      <td>200</td>\n",
       "      <td>23.0</td>\n",
       "    </tr>\n",
       "    <tr>\n",
       "      <th>257</th>\n",
       "      <td>Smoothies &amp; Shakes</td>\n",
       "      <td>McFlurry with Oreo Cookies (Snack)</td>\n",
       "      <td>6.7 oz (190 g)</td>\n",
       "      <td>340</td>\n",
       "      <td>100</td>\n",
       "      <td>11.0</td>\n",
       "    </tr>\n",
       "  </tbody>\n",
       "</table>\n",
       "</div>"
      ],
      "text/plain": [
       "               Category                                 Item     Serving Size  \\\n",
       "255  Smoothies & Shakes   McFlurry with Oreo Cookies (Small)  10.1 oz (285 g)   \n",
       "256  Smoothies & Shakes  McFlurry with Oreo Cookies (Medium)  13.4 oz (381 g)   \n",
       "257  Smoothies & Shakes   McFlurry with Oreo Cookies (Snack)   6.7 oz (190 g)   \n",
       "\n",
       "     Calories  Calories from Fat  Total Fat  \n",
       "255       510                150       17.0  \n",
       "256       690                200       23.0  \n",
       "257       340                100       11.0  "
      ]
     },
     "execution_count": 9,
     "metadata": {},
     "output_type": "execute_result"
    }
   ],
   "source": [
    "df[df[\"Item\"].str.contains(\"oreo\", case=False)]\n",
    "\n"
   ]
  },
  {
   "cell_type": "markdown",
   "id": "cbd4cdfb",
   "metadata": {},
   "source": [
    "## Interactive DataFrame\n"
   ]
  },
  {
   "cell_type": "code",
   "execution_count": 10,
   "id": "65ee9256",
   "metadata": {},
   "outputs": [
    {
     "data": {
      "application/vnd.jupyter.widget-view+json": {
       "model_id": "d4299998e6584e8ca78aa480fcc478b6",
       "version_major": 2,
       "version_minor": 0
      },
      "text/plain": [
       "interactive(children=(Text(value='.', description='regex_pat'), Output()), _dom_classes=('widget-interact',))"
      ]
     },
     "metadata": {},
     "output_type": "display_data"
    }
   ],
   "source": [
    "@interact\n",
    "def filter(regex_pat=\".\"):\n",
    "    return df[(df[\"Item\"].str.contains(regex_pat, regex=True, case=False))].sort_values(\n",
    "        \"Calories\", ascending=False\n",
    "    )\n",
    "\n"
   ]
  },
  {
   "cell_type": "code",
   "execution_count": 11,
   "id": "b884dd96-1b38-4fe2-9663-627339cf9051",
   "metadata": {},
   "outputs": [
    {
     "data": {
      "text/html": [
       "<div>\n",
       "<style scoped>\n",
       "    .dataframe tbody tr th:only-of-type {\n",
       "        vertical-align: middle;\n",
       "    }\n",
       "\n",
       "    .dataframe tbody tr th {\n",
       "        vertical-align: top;\n",
       "    }\n",
       "\n",
       "    .dataframe thead th {\n",
       "        text-align: right;\n",
       "    }\n",
       "</style>\n",
       "<table border=\"1\" class=\"dataframe\">\n",
       "  <thead>\n",
       "    <tr style=\"text-align: right;\">\n",
       "      <th></th>\n",
       "      <th>Category</th>\n",
       "      <th>Item</th>\n",
       "      <th>Serving Size</th>\n",
       "      <th>Calories</th>\n",
       "      <th>Calories from Fat</th>\n",
       "      <th>Total Fat</th>\n",
       "    </tr>\n",
       "  </thead>\n",
       "  <tbody>\n",
       "    <tr>\n",
       "      <th>256</th>\n",
       "      <td>Smoothies &amp; Shakes</td>\n",
       "      <td>McFlurry with Oreo Cookies (Medium)</td>\n",
       "      <td>13.4 oz (381 g)</td>\n",
       "      <td>690</td>\n",
       "      <td>200</td>\n",
       "      <td>23.0</td>\n",
       "    </tr>\n",
       "    <tr>\n",
       "      <th>26</th>\n",
       "      <td>Breakfast</td>\n",
       "      <td>Steak, Egg &amp; Cheese Bagel</td>\n",
       "      <td>8.5 oz (241 g)</td>\n",
       "      <td>670</td>\n",
       "      <td>310</td>\n",
       "      <td>35.0</td>\n",
       "    </tr>\n",
       "    <tr>\n",
       "      <th>18</th>\n",
       "      <td>Breakfast</td>\n",
       "      <td>Steak &amp; Egg Biscuit (Regular Biscuit)</td>\n",
       "      <td>7.1 oz (201 g)</td>\n",
       "      <td>540</td>\n",
       "      <td>290</td>\n",
       "      <td>32.0</td>\n",
       "    </tr>\n",
       "    <tr>\n",
       "      <th>255</th>\n",
       "      <td>Smoothies &amp; Shakes</td>\n",
       "      <td>McFlurry with Oreo Cookies (Small)</td>\n",
       "      <td>10.1 oz (285 g)</td>\n",
       "      <td>510</td>\n",
       "      <td>150</td>\n",
       "      <td>17.0</td>\n",
       "    </tr>\n",
       "    <tr>\n",
       "      <th>5</th>\n",
       "      <td>Breakfast</td>\n",
       "      <td>Steak &amp; Egg McMuffin</td>\n",
       "      <td>6.5 oz (185 g)</td>\n",
       "      <td>430</td>\n",
       "      <td>210</td>\n",
       "      <td>23.0</td>\n",
       "    </tr>\n",
       "    <tr>\n",
       "      <th>257</th>\n",
       "      <td>Smoothies &amp; Shakes</td>\n",
       "      <td>McFlurry with Oreo Cookies (Snack)</td>\n",
       "      <td>6.7 oz (190 g)</td>\n",
       "      <td>340</td>\n",
       "      <td>100</td>\n",
       "      <td>11.0</td>\n",
       "    </tr>\n",
       "    <tr>\n",
       "      <th>143</th>\n",
       "      <td>Coffee &amp; Tea</td>\n",
       "      <td>Sweet Tea (Large)</td>\n",
       "      <td>30 fl oz cup</td>\n",
       "      <td>220</td>\n",
       "      <td>0</td>\n",
       "      <td>0.0</td>\n",
       "    </tr>\n",
       "    <tr>\n",
       "      <th>142</th>\n",
       "      <td>Coffee &amp; Tea</td>\n",
       "      <td>Sweet Tea (Medium)</td>\n",
       "      <td>21 fl oz cup</td>\n",
       "      <td>180</td>\n",
       "      <td>0</td>\n",
       "      <td>0.0</td>\n",
       "    </tr>\n",
       "    <tr>\n",
       "      <th>141</th>\n",
       "      <td>Coffee &amp; Tea</td>\n",
       "      <td>Sweet Tea (Small)</td>\n",
       "      <td>16 fl oz cup</td>\n",
       "      <td>150</td>\n",
       "      <td>0</td>\n",
       "      <td>0.0</td>\n",
       "    </tr>\n",
       "    <tr>\n",
       "      <th>144</th>\n",
       "      <td>Coffee &amp; Tea</td>\n",
       "      <td>Sweet Tea (Child)</td>\n",
       "      <td>12 fl oz cup</td>\n",
       "      <td>110</td>\n",
       "      <td>0</td>\n",
       "      <td>0.0</td>\n",
       "    </tr>\n",
       "    <tr>\n",
       "      <th>137</th>\n",
       "      <td>Coffee &amp; Tea</td>\n",
       "      <td>Iced Tea (Small)</td>\n",
       "      <td>16 fl oz cup</td>\n",
       "      <td>0</td>\n",
       "      <td>0</td>\n",
       "      <td>0.0</td>\n",
       "    </tr>\n",
       "    <tr>\n",
       "      <th>138</th>\n",
       "      <td>Coffee &amp; Tea</td>\n",
       "      <td>Iced Tea (Medium)</td>\n",
       "      <td>21 fl oz cup</td>\n",
       "      <td>0</td>\n",
       "      <td>0</td>\n",
       "      <td>0.0</td>\n",
       "    </tr>\n",
       "    <tr>\n",
       "      <th>139</th>\n",
       "      <td>Coffee &amp; Tea</td>\n",
       "      <td>Iced Tea (Large)</td>\n",
       "      <td>30 fl oz cup</td>\n",
       "      <td>0</td>\n",
       "      <td>0</td>\n",
       "      <td>0.0</td>\n",
       "    </tr>\n",
       "    <tr>\n",
       "      <th>140</th>\n",
       "      <td>Coffee &amp; Tea</td>\n",
       "      <td>Iced Tea (Child)</td>\n",
       "      <td>12 fl oz cup</td>\n",
       "      <td>0</td>\n",
       "      <td>0</td>\n",
       "      <td>0.0</td>\n",
       "    </tr>\n",
       "  </tbody>\n",
       "</table>\n",
       "</div>"
      ],
      "text/plain": [
       "               Category                                   Item  \\\n",
       "256  Smoothies & Shakes    McFlurry with Oreo Cookies (Medium)   \n",
       "26            Breakfast              Steak, Egg & Cheese Bagel   \n",
       "18            Breakfast  Steak & Egg Biscuit (Regular Biscuit)   \n",
       "255  Smoothies & Shakes     McFlurry with Oreo Cookies (Small)   \n",
       "5             Breakfast                   Steak & Egg McMuffin   \n",
       "257  Smoothies & Shakes     McFlurry with Oreo Cookies (Snack)   \n",
       "143        Coffee & Tea                      Sweet Tea (Large)   \n",
       "142        Coffee & Tea                     Sweet Tea (Medium)   \n",
       "141        Coffee & Tea                      Sweet Tea (Small)   \n",
       "144        Coffee & Tea                      Sweet Tea (Child)   \n",
       "137        Coffee & Tea                       Iced Tea (Small)   \n",
       "138        Coffee & Tea                      Iced Tea (Medium)   \n",
       "139        Coffee & Tea                       Iced Tea (Large)   \n",
       "140        Coffee & Tea                       Iced Tea (Child)   \n",
       "\n",
       "        Serving Size  Calories  Calories from Fat  Total Fat  \n",
       "256  13.4 oz (381 g)       690                200       23.0  \n",
       "26    8.5 oz (241 g)       670                310       35.0  \n",
       "18    7.1 oz (201 g)       540                290       32.0  \n",
       "255  10.1 oz (285 g)       510                150       17.0  \n",
       "5     6.5 oz (185 g)       430                210       23.0  \n",
       "257   6.7 oz (190 g)       340                100       11.0  \n",
       "143     30 fl oz cup       220                  0        0.0  \n",
       "142     21 fl oz cup       180                  0        0.0  \n",
       "141     16 fl oz cup       150                  0        0.0  \n",
       "144     12 fl oz cup       110                  0        0.0  \n",
       "137     16 fl oz cup         0                  0        0.0  \n",
       "138     21 fl oz cup         0                  0        0.0  \n",
       "139     30 fl oz cup         0                  0        0.0  \n",
       "140     12 fl oz cup         0                  0        0.0  "
      ]
     },
     "execution_count": 11,
     "metadata": {},
     "output_type": "execute_result"
    }
   ],
   "source": [
    "dq = filter(\"oreo|tea\")\n",
    "dq\n"
   ]
  },
  {
   "cell_type": "code",
   "execution_count": 12,
   "id": "a744dec7",
   "metadata": {},
   "outputs": [
    {
     "data": {
      "application/vnd.jupyter.widget-view+json": {
       "model_id": "2b8215716ee44d84b7e8e61ca1cf52cd",
       "version_major": 2,
       "version_minor": 0
      },
      "text/plain": [
       "interactive(children=(Text(value='.', description='regex_pat'), Output()), _dom_classes=('widget-interact',))"
      ]
     },
     "metadata": {},
     "output_type": "display_data"
    }
   ],
   "source": [
    "@interact\n",
    "def filter(regex_pat=\".\"):  # Fries|burger\n",
    "    return df[\n",
    "        (df[\"Item\"].str.contains(regex_pat, regex=True, case=False))\n",
    "        | (df[\"Category\"].str.contains(regex_pat, regex=True, case=False))\n",
    "    ].sort_values(\"Item\", ascending=True)\n",
    "\n"
   ]
  },
  {
   "cell_type": "code",
   "execution_count": 13,
   "id": "1f9f72e7",
   "metadata": {},
   "outputs": [
    {
     "data": {
      "text/html": [
       "<div>\n",
       "<style scoped>\n",
       "    .dataframe tbody tr th:only-of-type {\n",
       "        vertical-align: middle;\n",
       "    }\n",
       "\n",
       "    .dataframe tbody tr th {\n",
       "        vertical-align: top;\n",
       "    }\n",
       "\n",
       "    .dataframe thead th {\n",
       "        text-align: right;\n",
       "    }\n",
       "</style>\n",
       "<table border=\"1\" class=\"dataframe\">\n",
       "  <thead>\n",
       "    <tr style=\"text-align: right;\">\n",
       "      <th></th>\n",
       "      <th>Category</th>\n",
       "      <th>Item</th>\n",
       "      <th>Serving Size</th>\n",
       "      <th>Calories</th>\n",
       "      <th>Calories from Fat</th>\n",
       "      <th>Total Fat</th>\n",
       "    </tr>\n",
       "  </thead>\n",
       "  <tbody>\n",
       "    <tr>\n",
       "      <th>101</th>\n",
       "      <td>Snacks &amp; Sides</td>\n",
       "      <td>Apple Slices</td>\n",
       "      <td>1.2 oz (34 g)</td>\n",
       "      <td>15</td>\n",
       "      <td>0</td>\n",
       "      <td>0.0</td>\n",
       "    </tr>\n",
       "    <tr>\n",
       "      <th>103</th>\n",
       "      <td>Desserts</td>\n",
       "      <td>Baked Apple Pie</td>\n",
       "      <td>2.7 oz (77 g)</td>\n",
       "      <td>250</td>\n",
       "      <td>110</td>\n",
       "      <td>13.0</td>\n",
       "    </tr>\n",
       "    <tr>\n",
       "      <th>240</th>\n",
       "      <td>Smoothies &amp; Shakes</td>\n",
       "      <td>Mango Pineapple Smoothie (Large)</td>\n",
       "      <td>22 fl oz cup</td>\n",
       "      <td>340</td>\n",
       "      <td>10</td>\n",
       "      <td>1.0</td>\n",
       "    </tr>\n",
       "    <tr>\n",
       "      <th>239</th>\n",
       "      <td>Smoothies &amp; Shakes</td>\n",
       "      <td>Mango Pineapple Smoothie (Medium)</td>\n",
       "      <td>16 fl oz cup</td>\n",
       "      <td>260</td>\n",
       "      <td>10</td>\n",
       "      <td>1.0</td>\n",
       "    </tr>\n",
       "    <tr>\n",
       "      <th>238</th>\n",
       "      <td>Smoothies &amp; Shakes</td>\n",
       "      <td>Mango Pineapple Smoothie (Small)</td>\n",
       "      <td>12 fl oz cup</td>\n",
       "      <td>210</td>\n",
       "      <td>5</td>\n",
       "      <td>0.5</td>\n",
       "    </tr>\n",
       "    <tr>\n",
       "      <th>132</th>\n",
       "      <td>Beverages</td>\n",
       "      <td>Minute Maid 100% Apple Juice Box</td>\n",
       "      <td>6 fl oz (177 ml)</td>\n",
       "      <td>80</td>\n",
       "      <td>0</td>\n",
       "      <td>0.0</td>\n",
       "    </tr>\n",
       "  </tbody>\n",
       "</table>\n",
       "</div>"
      ],
      "text/plain": [
       "               Category                               Item      Serving Size  \\\n",
       "101      Snacks & Sides                       Apple Slices     1.2 oz (34 g)   \n",
       "103            Desserts                    Baked Apple Pie     2.7 oz (77 g)   \n",
       "240  Smoothies & Shakes   Mango Pineapple Smoothie (Large)      22 fl oz cup   \n",
       "239  Smoothies & Shakes  Mango Pineapple Smoothie (Medium)      16 fl oz cup   \n",
       "238  Smoothies & Shakes   Mango Pineapple Smoothie (Small)      12 fl oz cup   \n",
       "132           Beverages   Minute Maid 100% Apple Juice Box  6 fl oz (177 ml)   \n",
       "\n",
       "     Calories  Calories from Fat  Total Fat  \n",
       "101        15                  0        0.0  \n",
       "103       250                110       13.0  \n",
       "240       340                 10        1.0  \n",
       "239       260                 10        1.0  \n",
       "238       210                  5        0.5  \n",
       "132        80                  0        0.0  "
      ]
     },
     "execution_count": 13,
     "metadata": {},
     "output_type": "execute_result"
    }
   ],
   "source": [
    "dq = filter(\"apple|mango\")\n",
    "dq\n"
   ]
  },
  {
   "cell_type": "code",
   "execution_count": 14,
   "id": "fe523abb",
   "metadata": {},
   "outputs": [
    {
     "data": {
      "text/plain": [
       "1880"
      ]
     },
     "execution_count": 14,
     "metadata": {},
     "output_type": "execute_result"
    }
   ],
   "source": [
    "df[\"Calories\"].max()\n",
    "\n"
   ]
  },
  {
   "cell_type": "code",
   "execution_count": 15,
   "id": "5e8cbc14",
   "metadata": {},
   "outputs": [
    {
     "data": {
      "application/vnd.jupyter.widget-view+json": {
       "model_id": "047007f322054745a753dec5d78fed7a",
       "version_major": 2,
       "version_minor": 0
      },
      "text/plain": [
       "interactive(children=(IntRangeSlider(value=(0, 1880), description='Calories:', max=1880, readout_format=',', s…"
      ]
     },
     "metadata": {},
     "output_type": "display_data"
    }
   ],
   "source": [
    "w_calories = widgets.IntRangeSlider(\n",
    "    value=[df[\"Calories\"].min(), df[\"Calories\"].max()],\n",
    "    min=df[\"Calories\"].min(),\n",
    "    max=df[\"Calories\"].max(),\n",
    "    step=10,\n",
    "    description=\"Calories:\",\n",
    "    #     continuous_update=False,\n",
    "    orientation=\"horizontal\",\n",
    "    readout=True,\n",
    "    readout_format=\",\",\n",
    ")\n",
    "\n",
    "\n",
    "@interact\n",
    "def filter(total_cases=w_calories):  # Thailand|Japan\n",
    "    #     print(total_cases)\n",
    "    return df[\n",
    "        (df[\"Calories\"] >= total_cases[0]) & (df[\"Calories\"] <= total_cases[1])\n",
    "    ].sort_values(\"Calories\", ascending=False)\n",
    "\n"
   ]
  },
  {
   "cell_type": "code",
   "execution_count": 16,
   "id": "0af7a4d6",
   "metadata": {},
   "outputs": [
    {
     "data": {
      "application/vnd.jupyter.widget-view+json": {
       "model_id": "ad6a096c65554040903e466060d7f64e",
       "version_major": 2,
       "version_minor": 0
      },
      "text/plain": [
       "interactive(children=(Text(value='.', description='regex_pat'), IntRangeSlider(value=(0, 1880), description='C…"
      ]
     },
     "metadata": {},
     "output_type": "display_data"
    }
   ],
   "source": [
    "w_calories = widgets.IntRangeSlider(\n",
    "    value=[df[\"Calories\"].min(), df[\"Calories\"].max()],\n",
    "    min=df[\"Calories\"].min(),\n",
    "    max=df[\"Calories\"].max(),\n",
    "    step=10,\n",
    "    description=\"Calories:\",\n",
    "    #     continuous_update=False,\n",
    "    orientation=\"horizontal\",\n",
    "    readout=True,\n",
    "    readout_format=\",\",\n",
    ")\n",
    "\n",
    "\n",
    "@interact\n",
    "def filter(regex_pat=\".\", total_cases=w_calories):  # Thailand|Japan\n",
    "    #     print(total_cases)\n",
    "    return df[\n",
    "        (df[\"Item\"].str.contains(regex_pat, regex=True, case=False))\n",
    "        & ((df[\"Calories\"] >= total_cases[0]) & (df[\"Calories\"] <= total_cases[1]))\n",
    "    ].sort_values(\"Calories\", ascending=False)\n",
    "\n"
   ]
  },
  {
   "cell_type": "code",
   "execution_count": 17,
   "id": "f3ae363e-d778-47e4-a6ea-7432c645de0a",
   "metadata": {},
   "outputs": [
    {
     "name": "stdout",
     "output_type": "stream",
     "text": [
      "<class 'pandas.core.frame.DataFrame'>\n",
      "RangeIndex: 260 entries, 0 to 259\n",
      "Data columns (total 6 columns):\n",
      " #   Column             Non-Null Count  Dtype  \n",
      "---  ------             --------------  -----  \n",
      " 0   Category           260 non-null    object \n",
      " 1   Item               260 non-null    object \n",
      " 2   Serving Size       260 non-null    object \n",
      " 3   Calories           260 non-null    int64  \n",
      " 4   Calories from Fat  260 non-null    int64  \n",
      " 5   Total Fat          260 non-null    float64\n",
      "dtypes: float64(1), int64(2), object(3)\n",
      "memory usage: 12.3+ KB\n"
     ]
    }
   ],
   "source": [
    "df.info()\n"
   ]
  },
  {
   "cell_type": "markdown",
   "id": "cbd4cdfb",
   "metadata": {},
   "source": [
    "## Interactive chart\n"
   ]
  },
  {
   "cell_type": "code",
   "execution_count": 18,
   "id": "832c9e54-5f36-489d-a881-3e57d4b50d1a",
   "metadata": {},
   "outputs": [
    {
     "data": {
      "application/vnd.jupyter.widget-view+json": {
       "model_id": "d3b595bb29be451ab50694586b436fb6",
       "version_major": 2,
       "version_minor": 0
      },
      "text/plain": [
       "interactive(children=(Dropdown(description='indicator', options=('Calories', 'Calories from Fat', 'Total Fat')…"
      ]
     },
     "metadata": {},
     "output_type": "display_data"
    }
   ],
   "source": [
    "indicator_list = [\n",
    "    \"Calories\",\n",
    "    \"Calories from Fat\",\n",
    "    \"Total Fat\",\n",
    "]\n",
    "\n",
    "\n",
    "@interact(indicator=indicator_list)\n",
    "def plot_chart(indicator):\n",
    "    # interactive plotly express only work with Jupyter Notebook not VSCode\n",
    "    # fig=px.box(df, x=indicator)\n",
    "    # fig.show()\n",
    "\n",
    "    # interactive seaborn works well in both Jupyter Notebook and VSCode\n",
    "    plt.figure(figsize=(4, 6))\n",
    "    ax = sns.boxplot(data=df, y=indicator)\n",
    "    plt.grid()  # show grid line\n"
   ]
  },
  {
   "cell_type": "code",
   "execution_count": 19,
   "id": "f44ff930-d55d-433c-bbe4-3c498503cb4f",
   "metadata": {},
   "outputs": [
    {
     "data": {
      "application/vnd.jupyter.widget-view+json": {
       "model_id": "85013c48e5c145bd9bad73f420c911a4",
       "version_major": 2,
       "version_minor": 0
      },
      "text/plain": [
       "interactive(children=(Dropdown(description='indicator', options=('Calories', 'Calories from Fat', 'Total Fat')…"
      ]
     },
     "metadata": {},
     "output_type": "display_data"
    }
   ],
   "source": [
    "indicator_list = [\n",
    "    \"Calories\",\n",
    "    \"Calories from Fat\",\n",
    "    \"Total Fat\",\n",
    "]\n",
    "\n",
    "\n",
    "@interact(indicator=indicator_list)\n",
    "def plot_chart(indicator):\n",
    "    # interactive plotly express only work with Jupyter Notebook not VSCode\n",
    "    # fig=px.box(df, x=indicator)\n",
    "    # fig.show()\n",
    "\n",
    "    # interactive seaborn works well in both Jupyter Notebook and VSCode\n",
    "    plt.figure(figsize=(4, 4))\n",
    "    ax = sns.histplot(df[indicator])\n",
    "    plt.grid()  # show grid line\n"
   ]
  },
  {
   "cell_type": "code",
   "execution_count": null,
   "id": "22abf48a",
   "metadata": {},
   "outputs": [],
   "source": []
  }
 ],
 "metadata": {
  "kernelspec": {
   "display_name": "Python 3.10.8 ('base')",
   "language": "python",
   "name": "python3"
  },
  "language_info": {
   "codemirror_mode": {
    "name": "ipython",
    "version": 3
   },
   "file_extension": ".py",
   "mimetype": "text/x-python",
   "name": "python",
   "nbconvert_exporter": "python",
   "pygments_lexer": "ipython3",
   "version": "3.10.9"
  },
  "vscode": {
   "interpreter": {
    "hash": "629cb9f199f624aadf5cdcebfeb0fdc9652b7a7e432d484384b677cab7914fce"
   }
  },
  "widgets": {
   "application/vnd.jupyter.widget-state+json": {
    "state": {
     "004bf121ba9144aa99db1d8e823384f3": {
      "model_module": "@jupyter-widgets/base",
      "model_module_version": "1.2.0",
      "model_name": "LayoutModel",
      "state": {}
     },
     "0354e480089443549ce16ea26f6104a1": {
      "model_module": "@jupyter-widgets/base",
      "model_module_version": "1.2.0",
      "model_name": "LayoutModel",
      "state": {}
     },
     "036b53e018b14bedaca9eb1fe71ae1cc": {
      "model_module": "@jupyter-widgets/base",
      "model_module_version": "1.2.0",
      "model_name": "LayoutModel",
      "state": {}
     },
     "0b3db416fc77493499391b276fd152a5": {
      "model_module": "@jupyter-widgets/base",
      "model_module_version": "1.2.0",
      "model_name": "LayoutModel",
      "state": {}
     },
     "0e3bf6799f764a7ca73b1f529be6600c": {
      "model_module": "@jupyter-widgets/base",
      "model_module_version": "1.2.0",
      "model_name": "LayoutModel",
      "state": {}
     },
     "13d989ec3130442db630aa6650e1aff5": {
      "model_module": "@jupyter-widgets/base",
      "model_module_version": "1.2.0",
      "model_name": "LayoutModel",
      "state": {}
     },
     "15c889667e344107832e4cc3ee37e4ba": {
      "model_module": "@jupyter-widgets/base",
      "model_module_version": "1.2.0",
      "model_name": "LayoutModel",
      "state": {}
     },
     "1689d8ac822844b3941f126e287a21f3": {
      "model_module": "@jupyter-widgets/base",
      "model_module_version": "1.2.0",
      "model_name": "LayoutModel",
      "state": {}
     },
     "1954d7ffb4e74728867a7bb5bd7fcd70": {
      "model_module": "@jupyter-widgets/output",
      "model_module_version": "1.0.0",
      "model_name": "OutputModel",
      "state": {
       "layout": "IPY_MODEL_2304c1425c214066a1ee25a359553665",
       "outputs": [
        {
         "ename": "NameError",
         "evalue": "name 'plt' is not defined",
         "output_type": "error",
         "traceback": [
          "\u001b[0;31m---------------------------------------------------------------------------\u001b[0m",
          "\u001b[0;31mNameError\u001b[0m                                 Traceback (most recent call last)",
          "\u001b[0;32m~/opt/miniconda3/lib/python3.8/site-packages/ipywidgets/widgets/interaction.py\u001b[0m in \u001b[0;36mupdate\u001b[0;34m(self, *args)\u001b[0m\n\u001b[1;32m    255\u001b[0m                     \u001b[0mvalue\u001b[0m \u001b[0;34m=\u001b[0m \u001b[0mwidget\u001b[0m\u001b[0;34m.\u001b[0m\u001b[0mget_interact_value\u001b[0m\u001b[0;34m(\u001b[0m\u001b[0;34m)\u001b[0m\u001b[0;34m\u001b[0m\u001b[0;34m\u001b[0m\u001b[0m\n\u001b[1;32m    256\u001b[0m                     \u001b[0mself\u001b[0m\u001b[0;34m.\u001b[0m\u001b[0mkwargs\u001b[0m\u001b[0;34m[\u001b[0m\u001b[0mwidget\u001b[0m\u001b[0;34m.\u001b[0m\u001b[0m_kwarg\u001b[0m\u001b[0;34m]\u001b[0m \u001b[0;34m=\u001b[0m \u001b[0mvalue\u001b[0m\u001b[0;34m\u001b[0m\u001b[0;34m\u001b[0m\u001b[0m\n\u001b[0;32m--> 257\u001b[0;31m                 \u001b[0mself\u001b[0m\u001b[0;34m.\u001b[0m\u001b[0mresult\u001b[0m \u001b[0;34m=\u001b[0m \u001b[0mself\u001b[0m\u001b[0;34m.\u001b[0m\u001b[0mf\u001b[0m\u001b[0;34m(\u001b[0m\u001b[0;34m**\u001b[0m\u001b[0mself\u001b[0m\u001b[0;34m.\u001b[0m\u001b[0mkwargs\u001b[0m\u001b[0;34m)\u001b[0m\u001b[0;34m\u001b[0m\u001b[0;34m\u001b[0m\u001b[0m\n\u001b[0m\u001b[1;32m    258\u001b[0m                 \u001b[0mshow_inline_matplotlib_plots\u001b[0m\u001b[0;34m(\u001b[0m\u001b[0;34m)\u001b[0m\u001b[0;34m\u001b[0m\u001b[0;34m\u001b[0m\u001b[0m\n\u001b[1;32m    259\u001b[0m                 \u001b[0;32mif\u001b[0m \u001b[0mself\u001b[0m\u001b[0;34m.\u001b[0m\u001b[0mauto_display\u001b[0m \u001b[0;32mand\u001b[0m \u001b[0mself\u001b[0m\u001b[0;34m.\u001b[0m\u001b[0mresult\u001b[0m \u001b[0;32mis\u001b[0m \u001b[0;32mnot\u001b[0m \u001b[0;32mNone\u001b[0m\u001b[0;34m:\u001b[0m\u001b[0;34m\u001b[0m\u001b[0;34m\u001b[0m\u001b[0m\n",
          "\u001b[0;32m/var/folders/d4/z_5z0yms7f98735ygm3t8vgh0000gn/T/ipykernel_2146/1051919814.py\u001b[0m in \u001b[0;36mplot_chart\u001b[0;34m(indicator)\u001b[0m\n\u001b[1;32m     11\u001b[0m \u001b[0;34m\u001b[0m\u001b[0m\n\u001b[1;32m     12\u001b[0m     \u001b[0;31m# interactive seaborn works well in both Jupyter Notebook and VSCode\u001b[0m\u001b[0;34m\u001b[0m\u001b[0;34m\u001b[0m\u001b[0;34m\u001b[0m\u001b[0m\n\u001b[0;32m---> 13\u001b[0;31m     \u001b[0mplt\u001b[0m\u001b[0;34m.\u001b[0m\u001b[0mfigure\u001b[0m\u001b[0;34m(\u001b[0m\u001b[0mfigsize\u001b[0m\u001b[0;34m=\u001b[0m\u001b[0;34m(\u001b[0m\u001b[0;36m4\u001b[0m\u001b[0;34m,\u001b[0m \u001b[0;36m6\u001b[0m\u001b[0;34m)\u001b[0m\u001b[0;34m)\u001b[0m\u001b[0;34m\u001b[0m\u001b[0;34m\u001b[0m\u001b[0m\n\u001b[0m\u001b[1;32m     14\u001b[0m     \u001b[0max\u001b[0m \u001b[0;34m=\u001b[0m \u001b[0msns\u001b[0m\u001b[0;34m.\u001b[0m\u001b[0mboxplot\u001b[0m\u001b[0;34m(\u001b[0m\u001b[0mdata\u001b[0m\u001b[0;34m=\u001b[0m\u001b[0mdf\u001b[0m\u001b[0;34m,\u001b[0m \u001b[0my\u001b[0m\u001b[0;34m=\u001b[0m\u001b[0mindicator\u001b[0m\u001b[0;34m)\u001b[0m\u001b[0;34m\u001b[0m\u001b[0;34m\u001b[0m\u001b[0m\n\u001b[1;32m     15\u001b[0m     \u001b[0mplt\u001b[0m\u001b[0;34m.\u001b[0m\u001b[0mgrid\u001b[0m\u001b[0;34m(\u001b[0m\u001b[0;34m)\u001b[0m  \u001b[0;31m# show grid line\u001b[0m\u001b[0;34m\u001b[0m\u001b[0;34m\u001b[0m\u001b[0m\n",
          "\u001b[0;31mNameError\u001b[0m: name 'plt' is not defined"
         ]
        }
       ]
      }
     },
     "1a551db6f9594435b3705ed3b6fca5c6": {
      "model_module": "@jupyter-widgets/controls",
      "model_module_version": "1.5.0",
      "model_name": "DropdownModel",
      "state": {
       "_options_labels": [
        "Calories",
        "Total Fat"
       ],
       "description": "indicator",
       "index": 1,
       "layout": "IPY_MODEL_3dddfc3c6f8348768dfef2c0feb6d776",
       "style": "IPY_MODEL_61d32e16acb04d9cbf77c4d17c6dd768"
      }
     },
     "1d3d559c6b8044e69a637fd296408407": {
      "model_module": "@jupyter-widgets/base",
      "model_module_version": "1.2.0",
      "model_name": "LayoutModel",
      "state": {}
     },
     "1d912ce40db74a61af337d766737aa4f": {
      "model_module": "@jupyter-widgets/base",
      "model_module_version": "1.2.0",
      "model_name": "LayoutModel",
      "state": {}
     },
     "224257f2c2814eb6ab76c0b3c864e149": {
      "model_module": "@jupyter-widgets/controls",
      "model_module_version": "1.5.0",
      "model_name": "DropdownModel",
      "state": {
       "_options_labels": [
        "Calories",
        "Total Fat"
       ],
       "description": "indicator",
       "index": 0,
       "layout": "IPY_MODEL_c8b6aadf8fb64726a72557f532215f38",
       "style": "IPY_MODEL_7e4b6eb5d28d4bd0a315c9273818bbe9"
      }
     },
     "2304c1425c214066a1ee25a359553665": {
      "model_module": "@jupyter-widgets/base",
      "model_module_version": "1.2.0",
      "model_name": "LayoutModel",
      "state": {}
     },
     "23cbd53075714af2b70c51a3aad784d8": {
      "model_module": "@jupyter-widgets/controls",
      "model_module_version": "1.5.0",
      "model_name": "DescriptionStyleModel",
      "state": {
       "description_width": ""
      }
     },
     "26599f738a1948c794153b7ddaf8b56b": {
      "model_module": "@jupyter-widgets/controls",
      "model_module_version": "1.5.0",
      "model_name": "TextModel",
      "state": {
       "description": "regex_pat",
       "layout": "IPY_MODEL_0b3db416fc77493499391b276fd152a5",
       "style": "IPY_MODEL_4b58a0bcf4414a4780b4ec548b818dd5",
       "value": "."
      }
     },
     "2ed7b19ae6244c97866a06736d9f4dc4": {
      "model_module": "@jupyter-widgets/base",
      "model_module_version": "1.2.0",
      "model_name": "LayoutModel",
      "state": {}
     },
     "2f22ab1d491b4afe96a46f308efa99c1": {
      "model_module": "@jupyter-widgets/base",
      "model_module_version": "1.2.0",
      "model_name": "LayoutModel",
      "state": {}
     },
     "32340b45de3245408da69fd1f8ab95ce": {
      "model_module": "@jupyter-widgets/controls",
      "model_module_version": "1.5.0",
      "model_name": "VBoxModel",
      "state": {
       "_dom_classes": [
        "widget-interact"
       ],
       "children": [
        "IPY_MODEL_7452cdb0f97a4e2ba4ccf720165be98d",
        "IPY_MODEL_630ac539e014470da93b6897db702f7e"
       ],
       "layout": "IPY_MODEL_f3c37484ba60424e970420bf7926253b"
      }
     },
     "355cc36140ea405b845109aed90e3cf2": {
      "model_module": "@jupyter-widgets/output",
      "model_module_version": "1.0.0",
      "model_name": "OutputModel",
      "state": {
       "layout": "IPY_MODEL_c6d0c5e10c5b48b2957b995ac33b5623",
       "outputs": [
        {
         "data": {
          "text/html": "<div>\n<style scoped>\n    .dataframe tbody tr th:only-of-type {\n        vertical-align: middle;\n    }\n\n    .dataframe tbody tr th {\n        vertical-align: top;\n    }\n\n    .dataframe thead th {\n        text-align: right;\n    }\n</style>\n<table border=\"1\" class=\"dataframe\">\n  <thead>\n    <tr style=\"text-align: right;\">\n      <th></th>\n      <th>Category</th>\n      <th>Item</th>\n      <th>Serving Size</th>\n      <th>Calories</th>\n      <th>Calories from Fat</th>\n      <th>Total Fat</th>\n    </tr>\n  </thead>\n  <tbody>\n    <tr>\n      <th>82</th>\n      <td>Chicken &amp; Fish</td>\n      <td>Chicken McNuggets (40 piece)</td>\n      <td>22.8 oz (646 g)</td>\n      <td>1880</td>\n      <td>1060</td>\n      <td>118.0</td>\n    </tr>\n    <tr>\n      <th>32</th>\n      <td>Breakfast</td>\n      <td>Big Breakfast with Hotcakes (Large Biscuit)</td>\n      <td>15.3 oz (434 g)</td>\n      <td>1150</td>\n      <td>540</td>\n      <td>60.0</td>\n    </tr>\n    <tr>\n      <th>31</th>\n      <td>Breakfast</td>\n      <td>Big Breakfast with Hotcakes (Regular Biscuit)</td>\n      <td>14.8 oz (420 g)</td>\n      <td>1090</td>\n      <td>510</td>\n      <td>56.0</td>\n    </tr>\n    <tr>\n      <th>34</th>\n      <td>Breakfast</td>\n      <td>Big Breakfast with Hotcakes and Egg Whites (La...</td>\n      <td>15.4 oz (437 g)</td>\n      <td>1050</td>\n      <td>450</td>\n      <td>50.0</td>\n    </tr>\n    <tr>\n      <th>33</th>\n      <td>Breakfast</td>\n      <td>Big Breakfast with Hotcakes and Egg Whites (Re...</td>\n      <td>14.9 oz (423 g)</td>\n      <td>990</td>\n      <td>410</td>\n      <td>46.0</td>\n    </tr>\n    <tr>\n      <th>...</th>\n      <td>...</td>\n      <td>...</td>\n      <td>...</td>\n      <td>...</td>\n      <td>...</td>\n      <td>...</td>\n    </tr>\n    <tr>\n      <th>117</th>\n      <td>Beverages</td>\n      <td>Diet Coke (Child)</td>\n      <td>12 fl oz cup</td>\n      <td>0</td>\n      <td>0</td>\n      <td>0.0</td>\n    </tr>\n    <tr>\n      <th>116</th>\n      <td>Beverages</td>\n      <td>Diet Coke (Large)</td>\n      <td>30 fl oz cup</td>\n      <td>0</td>\n      <td>0</td>\n      <td>0.0</td>\n    </tr>\n    <tr>\n      <th>115</th>\n      <td>Beverages</td>\n      <td>Diet Coke (Medium)</td>\n      <td>21 fl oz cup</td>\n      <td>0</td>\n      <td>0</td>\n      <td>0.0</td>\n    </tr>\n    <tr>\n      <th>114</th>\n      <td>Beverages</td>\n      <td>Diet Coke (Small)</td>\n      <td>16 fl oz cup</td>\n      <td>0</td>\n      <td>0</td>\n      <td>0.0</td>\n    </tr>\n    <tr>\n      <th>146</th>\n      <td>Coffee &amp; Tea</td>\n      <td>Coffee (Medium)</td>\n      <td>16 fl oz cup</td>\n      <td>0</td>\n      <td>0</td>\n      <td>0.0</td>\n    </tr>\n  </tbody>\n</table>\n<p>260 rows × 6 columns</p>\n</div>",
          "text/plain": "           Category                                               Item  \\\n82   Chicken & Fish                       Chicken McNuggets (40 piece)   \n32        Breakfast        Big Breakfast with Hotcakes (Large Biscuit)   \n31        Breakfast      Big Breakfast with Hotcakes (Regular Biscuit)   \n34        Breakfast  Big Breakfast with Hotcakes and Egg Whites (La...   \n33        Breakfast  Big Breakfast with Hotcakes and Egg Whites (Re...   \n..              ...                                                ...   \n117       Beverages                                  Diet Coke (Child)   \n116       Beverages                                  Diet Coke (Large)   \n115       Beverages                                 Diet Coke (Medium)   \n114       Beverages                                  Diet Coke (Small)   \n146    Coffee & Tea                                    Coffee (Medium)   \n\n        Serving Size  Calories  Calories from Fat  Total Fat  \n82   22.8 oz (646 g)      1880               1060      118.0  \n32   15.3 oz (434 g)      1150                540       60.0  \n31   14.8 oz (420 g)      1090                510       56.0  \n34   15.4 oz (437 g)      1050                450       50.0  \n33   14.9 oz (423 g)       990                410       46.0  \n..               ...       ...                ...        ...  \n117     12 fl oz cup         0                  0        0.0  \n116     30 fl oz cup         0                  0        0.0  \n115     21 fl oz cup         0                  0        0.0  \n114     16 fl oz cup         0                  0        0.0  \n146     16 fl oz cup         0                  0        0.0  \n\n[260 rows x 6 columns]"
         },
         "metadata": {},
         "output_type": "display_data"
        }
       ]
      }
     },
     "35711e2c274a403eb6517b6aaa6ffffb": {
      "model_module": "@jupyter-widgets/controls",
      "model_module_version": "1.5.0",
      "model_name": "DropdownModel",
      "state": {
       "_options_labels": [
        "Calories",
        "Total Fat"
       ],
       "description": "indicator",
       "index": 0,
       "layout": "IPY_MODEL_dbe9c16497fd4d968232c32a1dc73bb1",
       "style": "IPY_MODEL_7e6269ebcaa94c0380352513fe7bc404"
      }
     },
     "3850fb133840486ca0ca68b832bb41a4": {
      "model_module": "@jupyter-widgets/base",
      "model_module_version": "1.2.0",
      "model_name": "LayoutModel",
      "state": {}
     },
     "3dddfc3c6f8348768dfef2c0feb6d776": {
      "model_module": "@jupyter-widgets/base",
      "model_module_version": "1.2.0",
      "model_name": "LayoutModel",
      "state": {}
     },
     "434d0061a0034827af67c1a48b3aaf0c": {
      "model_module": "@jupyter-widgets/base",
      "model_module_version": "1.2.0",
      "model_name": "LayoutModel",
      "state": {}
     },
     "4461516677d045799c5c6b02bc406ec4": {
      "model_module": "@jupyter-widgets/base",
      "model_module_version": "1.2.0",
      "model_name": "LayoutModel",
      "state": {}
     },
     "4af1b66277d649f099492ebd2723d5d7": {
      "model_module": "@jupyter-widgets/controls",
      "model_module_version": "1.5.0",
      "model_name": "SliderStyleModel",
      "state": {
       "description_width": ""
      }
     },
     "4b58a0bcf4414a4780b4ec548b818dd5": {
      "model_module": "@jupyter-widgets/controls",
      "model_module_version": "1.5.0",
      "model_name": "DescriptionStyleModel",
      "state": {
       "description_width": ""
      }
     },
     "4f06db7812884abf874b117fdc3fd954": {
      "model_module": "@jupyter-widgets/output",
      "model_module_version": "1.0.0",
      "model_name": "OutputModel",
      "state": {
       "layout": "IPY_MODEL_6d585e9871ca4da782d5c0f599b4da34",
       "outputs": [
        {
         "ename": "TypeError",
         "evalue": "distplot() got an unexpected keyword argument 'data'",
         "output_type": "error",
         "traceback": [
          "\u001b[0;31m---------------------------------------------------------------------------\u001b[0m",
          "\u001b[0;31mTypeError\u001b[0m                                 Traceback (most recent call last)",
          "\u001b[0;32m~/opt/miniconda3/lib/python3.8/site-packages/ipywidgets/widgets/interaction.py\u001b[0m in \u001b[0;36mupdate\u001b[0;34m(self, *args)\u001b[0m\n\u001b[1;32m    255\u001b[0m                     \u001b[0mvalue\u001b[0m \u001b[0;34m=\u001b[0m \u001b[0mwidget\u001b[0m\u001b[0;34m.\u001b[0m\u001b[0mget_interact_value\u001b[0m\u001b[0;34m(\u001b[0m\u001b[0;34m)\u001b[0m\u001b[0;34m\u001b[0m\u001b[0;34m\u001b[0m\u001b[0m\n\u001b[1;32m    256\u001b[0m                     \u001b[0mself\u001b[0m\u001b[0;34m.\u001b[0m\u001b[0mkwargs\u001b[0m\u001b[0;34m[\u001b[0m\u001b[0mwidget\u001b[0m\u001b[0;34m.\u001b[0m\u001b[0m_kwarg\u001b[0m\u001b[0;34m]\u001b[0m \u001b[0;34m=\u001b[0m \u001b[0mvalue\u001b[0m\u001b[0;34m\u001b[0m\u001b[0;34m\u001b[0m\u001b[0m\n\u001b[0;32m--> 257\u001b[0;31m                 \u001b[0mself\u001b[0m\u001b[0;34m.\u001b[0m\u001b[0mresult\u001b[0m \u001b[0;34m=\u001b[0m \u001b[0mself\u001b[0m\u001b[0;34m.\u001b[0m\u001b[0mf\u001b[0m\u001b[0;34m(\u001b[0m\u001b[0;34m**\u001b[0m\u001b[0mself\u001b[0m\u001b[0;34m.\u001b[0m\u001b[0mkwargs\u001b[0m\u001b[0;34m)\u001b[0m\u001b[0;34m\u001b[0m\u001b[0;34m\u001b[0m\u001b[0m\n\u001b[0m\u001b[1;32m    258\u001b[0m                 \u001b[0mshow_inline_matplotlib_plots\u001b[0m\u001b[0;34m(\u001b[0m\u001b[0;34m)\u001b[0m\u001b[0;34m\u001b[0m\u001b[0;34m\u001b[0m\u001b[0m\n\u001b[1;32m    259\u001b[0m                 \u001b[0;32mif\u001b[0m \u001b[0mself\u001b[0m\u001b[0;34m.\u001b[0m\u001b[0mauto_display\u001b[0m \u001b[0;32mand\u001b[0m \u001b[0mself\u001b[0m\u001b[0;34m.\u001b[0m\u001b[0mresult\u001b[0m \u001b[0;32mis\u001b[0m \u001b[0;32mnot\u001b[0m \u001b[0;32mNone\u001b[0m\u001b[0;34m:\u001b[0m\u001b[0;34m\u001b[0m\u001b[0;34m\u001b[0m\u001b[0m\n",
          "\u001b[0;32m/var/folders/d4/z_5z0yms7f98735ygm3t8vgh0000gn/T/ipykernel_2146/2373430124.py\u001b[0m in \u001b[0;36mplot_chart\u001b[0;34m(indicator)\u001b[0m\n\u001b[1;32m     12\u001b[0m     \u001b[0;31m# interactive seaborn works well in both Jupyter Notebook and VSCode\u001b[0m\u001b[0;34m\u001b[0m\u001b[0;34m\u001b[0m\u001b[0;34m\u001b[0m\u001b[0m\n\u001b[1;32m     13\u001b[0m     \u001b[0mplt\u001b[0m\u001b[0;34m.\u001b[0m\u001b[0mfigure\u001b[0m\u001b[0;34m(\u001b[0m\u001b[0mfigsize\u001b[0m\u001b[0;34m=\u001b[0m\u001b[0;34m(\u001b[0m\u001b[0;36m4\u001b[0m\u001b[0;34m,\u001b[0m \u001b[0;36m6\u001b[0m\u001b[0;34m)\u001b[0m\u001b[0;34m)\u001b[0m\u001b[0;34m\u001b[0m\u001b[0;34m\u001b[0m\u001b[0m\n\u001b[0;32m---> 14\u001b[0;31m     \u001b[0max\u001b[0m \u001b[0;34m=\u001b[0m \u001b[0msns\u001b[0m\u001b[0;34m.\u001b[0m\u001b[0mdistplot\u001b[0m\u001b[0;34m(\u001b[0m\u001b[0mdata\u001b[0m\u001b[0;34m=\u001b[0m\u001b[0mdf\u001b[0m\u001b[0;34m,\u001b[0m \u001b[0my\u001b[0m\u001b[0;34m=\u001b[0m\u001b[0mindicator\u001b[0m\u001b[0;34m)\u001b[0m\u001b[0;34m\u001b[0m\u001b[0;34m\u001b[0m\u001b[0m\n\u001b[0m\u001b[1;32m     15\u001b[0m     \u001b[0mplt\u001b[0m\u001b[0;34m.\u001b[0m\u001b[0mgrid\u001b[0m\u001b[0;34m(\u001b[0m\u001b[0;34m)\u001b[0m  \u001b[0;31m# show grid line\u001b[0m\u001b[0;34m\u001b[0m\u001b[0;34m\u001b[0m\u001b[0m\n",
          "\u001b[0;31mTypeError\u001b[0m: distplot() got an unexpected keyword argument 'data'"
         ]
        }
       ]
      }
     },
     "4f697d37a18344ee960fd9482deb03f3": {
      "model_module": "@jupyter-widgets/controls",
      "model_module_version": "1.5.0",
      "model_name": "DescriptionStyleModel",
      "state": {
       "description_width": ""
      }
     },
     "5100831c456945aebaae858541958722": {
      "model_module": "@jupyter-widgets/base",
      "model_module_version": "1.2.0",
      "model_name": "LayoutModel",
      "state": {}
     },
     "53aa862f0f3e4834ad79d7633c4f5fa6": {
      "model_module": "@jupyter-widgets/controls",
      "model_module_version": "1.5.0",
      "model_name": "VBoxModel",
      "state": {
       "_dom_classes": [
        "widget-interact"
       ],
       "children": [
        "IPY_MODEL_e6f85d99f83242779fefb329cf703f0b",
        "IPY_MODEL_a280b2ba201f4dc295396588b2660847"
       ],
       "layout": "IPY_MODEL_d5a890916809474189137b4e03a3a009"
      }
     },
     "5547fbdbc06f41499488df6f85e66dcf": {
      "model_module": "@jupyter-widgets/controls",
      "model_module_version": "1.5.0",
      "model_name": "VBoxModel",
      "state": {
       "_dom_classes": [
        "widget-interact"
       ],
       "children": [
        "IPY_MODEL_8c0e289036b544bbaf435a37cfaa30dd",
        "IPY_MODEL_4f06db7812884abf874b117fdc3fd954"
       ],
       "layout": "IPY_MODEL_1689d8ac822844b3941f126e287a21f3"
      }
     },
     "5594f175e50a40ccb54739a084c43f7a": {
      "model_module": "@jupyter-widgets/base",
      "model_module_version": "1.2.0",
      "model_name": "LayoutModel",
      "state": {}
     },
     "573ebe7db078414d8fe24b9fcb7f8500": {
      "model_module": "@jupyter-widgets/base",
      "model_module_version": "1.2.0",
      "model_name": "LayoutModel",
      "state": {}
     },
     "5b473ab0e4864a83901e1853c2b7efd7": {
      "model_module": "@jupyter-widgets/controls",
      "model_module_version": "1.5.0",
      "model_name": "DescriptionStyleModel",
      "state": {
       "description_width": ""
      }
     },
     "61d32e16acb04d9cbf77c4d17c6dd768": {
      "model_module": "@jupyter-widgets/controls",
      "model_module_version": "1.5.0",
      "model_name": "DescriptionStyleModel",
      "state": {
       "description_width": ""
      }
     },
     "630ac539e014470da93b6897db702f7e": {
      "model_module": "@jupyter-widgets/output",
      "model_module_version": "1.0.0",
      "model_name": "OutputModel",
      "state": {
       "layout": "IPY_MODEL_954aa8cee65449798ee879298aa4f632",
       "outputs": [
        {
         "ename": "ValueError",
         "evalue": "Value of 'x' is not the name of a column in 'data_frame'. Expected one of ['Category', 'Item', 'Serving Size', 'Calories', 'Calories from Fat', 'Total Fat'] but received: housing_median_age",
         "output_type": "error",
         "traceback": [
          "\u001b[0;31m---------------------------------------------------------------------------\u001b[0m",
          "\u001b[0;31mValueError\u001b[0m                                Traceback (most recent call last)",
          "\u001b[0;32m~/opt/miniconda3/lib/python3.8/site-packages/ipywidgets/widgets/interaction.py\u001b[0m in \u001b[0;36mupdate\u001b[0;34m(self, *args)\u001b[0m\n\u001b[1;32m    255\u001b[0m                     \u001b[0mvalue\u001b[0m \u001b[0;34m=\u001b[0m \u001b[0mwidget\u001b[0m\u001b[0;34m.\u001b[0m\u001b[0mget_interact_value\u001b[0m\u001b[0;34m(\u001b[0m\u001b[0;34m)\u001b[0m\u001b[0;34m\u001b[0m\u001b[0;34m\u001b[0m\u001b[0m\n\u001b[1;32m    256\u001b[0m                     \u001b[0mself\u001b[0m\u001b[0;34m.\u001b[0m\u001b[0mkwargs\u001b[0m\u001b[0;34m[\u001b[0m\u001b[0mwidget\u001b[0m\u001b[0;34m.\u001b[0m\u001b[0m_kwarg\u001b[0m\u001b[0;34m]\u001b[0m \u001b[0;34m=\u001b[0m \u001b[0mvalue\u001b[0m\u001b[0;34m\u001b[0m\u001b[0;34m\u001b[0m\u001b[0m\n\u001b[0;32m--> 257\u001b[0;31m                 \u001b[0mself\u001b[0m\u001b[0;34m.\u001b[0m\u001b[0mresult\u001b[0m \u001b[0;34m=\u001b[0m \u001b[0mself\u001b[0m\u001b[0;34m.\u001b[0m\u001b[0mf\u001b[0m\u001b[0;34m(\u001b[0m\u001b[0;34m**\u001b[0m\u001b[0mself\u001b[0m\u001b[0;34m.\u001b[0m\u001b[0mkwargs\u001b[0m\u001b[0;34m)\u001b[0m\u001b[0;34m\u001b[0m\u001b[0;34m\u001b[0m\u001b[0m\n\u001b[0m\u001b[1;32m    258\u001b[0m                 \u001b[0mshow_inline_matplotlib_plots\u001b[0m\u001b[0;34m(\u001b[0m\u001b[0;34m)\u001b[0m\u001b[0;34m\u001b[0m\u001b[0;34m\u001b[0m\u001b[0m\n\u001b[1;32m    259\u001b[0m                 \u001b[0;32mif\u001b[0m \u001b[0mself\u001b[0m\u001b[0;34m.\u001b[0m\u001b[0mauto_display\u001b[0m \u001b[0;32mand\u001b[0m \u001b[0mself\u001b[0m\u001b[0;34m.\u001b[0m\u001b[0mresult\u001b[0m \u001b[0;32mis\u001b[0m \u001b[0;32mnot\u001b[0m \u001b[0;32mNone\u001b[0m\u001b[0;34m:\u001b[0m\u001b[0;34m\u001b[0m\u001b[0;34m\u001b[0m\u001b[0m\n",
          "\u001b[0;32m/var/folders/d4/z_5z0yms7f98735ygm3t8vgh0000gn/T/ipykernel_2146/4232556535.py\u001b[0m in \u001b[0;36mplot_chart\u001b[0;34m(indicator)\u001b[0m\n\u001b[1;32m     12\u001b[0m \u001b[0;32mdef\u001b[0m \u001b[0mplot_chart\u001b[0m\u001b[0;34m(\u001b[0m\u001b[0mindicator\u001b[0m\u001b[0;34m)\u001b[0m\u001b[0;34m:\u001b[0m\u001b[0;34m\u001b[0m\u001b[0;34m\u001b[0m\u001b[0m\n\u001b[1;32m     13\u001b[0m     \u001b[0;31m# interactive plotly express only work with Jupyter Notebook not VSCode\u001b[0m\u001b[0;34m\u001b[0m\u001b[0;34m\u001b[0m\u001b[0;34m\u001b[0m\u001b[0m\n\u001b[0;32m---> 14\u001b[0;31m     \u001b[0mfig\u001b[0m\u001b[0;34m=\u001b[0m\u001b[0mpx\u001b[0m\u001b[0;34m.\u001b[0m\u001b[0mbox\u001b[0m\u001b[0;34m(\u001b[0m\u001b[0mdf\u001b[0m\u001b[0;34m,\u001b[0m \u001b[0mx\u001b[0m\u001b[0;34m=\u001b[0m\u001b[0mindicator\u001b[0m\u001b[0;34m)\u001b[0m\u001b[0;34m\u001b[0m\u001b[0;34m\u001b[0m\u001b[0m\n\u001b[0m\u001b[1;32m     15\u001b[0m     \u001b[0mfig\u001b[0m\u001b[0;34m.\u001b[0m\u001b[0mshow\u001b[0m\u001b[0;34m(\u001b[0m\u001b[0;34m)\u001b[0m\u001b[0;34m\u001b[0m\u001b[0;34m\u001b[0m\u001b[0m\n\u001b[1;32m     16\u001b[0m \u001b[0;34m\u001b[0m\u001b[0m\n",
          "\u001b[0;32m~/opt/miniconda3/lib/python3.8/site-packages/plotly/express/_chart_types.py\u001b[0m in \u001b[0;36mbox\u001b[0;34m(data_frame, x, y, color, facet_row, facet_col, facet_col_wrap, facet_row_spacing, facet_col_spacing, hover_name, hover_data, custom_data, animation_frame, animation_group, category_orders, labels, color_discrete_sequence, color_discrete_map, orientation, boxmode, log_x, log_y, range_x, range_y, points, notched, title, template, width, height)\u001b[0m\n\u001b[1;32m    646\u001b[0m     \u001b[0mrange\u001b[0m \u001b[0;34m(\u001b[0m\u001b[0mIQR\u001b[0m\u001b[0;34m:\u001b[0m \u001b[0mQ3\u001b[0m\u001b[0;34m-\u001b[0m\u001b[0mQ1\u001b[0m\u001b[0;34m)\u001b[0m\u001b[0;34m,\u001b[0m \u001b[0msee\u001b[0m \u001b[0;34m\"points\"\u001b[0m \u001b[0;32mfor\u001b[0m \u001b[0mother\u001b[0m \u001b[0moptions\u001b[0m\u001b[0;34m.\u001b[0m\u001b[0;34m\u001b[0m\u001b[0;34m\u001b[0m\u001b[0m\n\u001b[1;32m    647\u001b[0m     \"\"\"\n\u001b[0;32m--> 648\u001b[0;31m     return make_figure(\n\u001b[0m\u001b[1;32m    649\u001b[0m         \u001b[0margs\u001b[0m\u001b[0;34m=\u001b[0m\u001b[0mlocals\u001b[0m\u001b[0;34m(\u001b[0m\u001b[0;34m)\u001b[0m\u001b[0;34m,\u001b[0m\u001b[0;34m\u001b[0m\u001b[0;34m\u001b[0m\u001b[0m\n\u001b[1;32m    650\u001b[0m         \u001b[0mconstructor\u001b[0m\u001b[0;34m=\u001b[0m\u001b[0mgo\u001b[0m\u001b[0;34m.\u001b[0m\u001b[0mBox\u001b[0m\u001b[0;34m,\u001b[0m\u001b[0;34m\u001b[0m\u001b[0;34m\u001b[0m\u001b[0m\n",
          "\u001b[0;32m~/opt/miniconda3/lib/python3.8/site-packages/plotly/express/_core.py\u001b[0m in \u001b[0;36mmake_figure\u001b[0;34m(args, constructor, trace_patch, layout_patch)\u001b[0m\n\u001b[1;32m   1931\u001b[0m     \u001b[0mapply_default_cascade\u001b[0m\u001b[0;34m(\u001b[0m\u001b[0margs\u001b[0m\u001b[0;34m)\u001b[0m\u001b[0;34m\u001b[0m\u001b[0;34m\u001b[0m\u001b[0m\n\u001b[1;32m   1932\u001b[0m \u001b[0;34m\u001b[0m\u001b[0m\n\u001b[0;32m-> 1933\u001b[0;31m     \u001b[0margs\u001b[0m \u001b[0;34m=\u001b[0m \u001b[0mbuild_dataframe\u001b[0m\u001b[0;34m(\u001b[0m\u001b[0margs\u001b[0m\u001b[0;34m,\u001b[0m \u001b[0mconstructor\u001b[0m\u001b[0;34m)\u001b[0m\u001b[0;34m\u001b[0m\u001b[0;34m\u001b[0m\u001b[0m\n\u001b[0m\u001b[1;32m   1934\u001b[0m     \u001b[0;32mif\u001b[0m \u001b[0mconstructor\u001b[0m \u001b[0;32min\u001b[0m \u001b[0;34m[\u001b[0m\u001b[0mgo\u001b[0m\u001b[0;34m.\u001b[0m\u001b[0mTreemap\u001b[0m\u001b[0;34m,\u001b[0m \u001b[0mgo\u001b[0m\u001b[0;34m.\u001b[0m\u001b[0mSunburst\u001b[0m\u001b[0;34m,\u001b[0m \u001b[0mgo\u001b[0m\u001b[0;34m.\u001b[0m\u001b[0mIcicle\u001b[0m\u001b[0;34m]\u001b[0m \u001b[0;32mand\u001b[0m \u001b[0margs\u001b[0m\u001b[0;34m[\u001b[0m\u001b[0;34m\"path\"\u001b[0m\u001b[0;34m]\u001b[0m \u001b[0;32mis\u001b[0m \u001b[0;32mnot\u001b[0m \u001b[0;32mNone\u001b[0m\u001b[0;34m:\u001b[0m\u001b[0;34m\u001b[0m\u001b[0;34m\u001b[0m\u001b[0m\n\u001b[1;32m   1935\u001b[0m         \u001b[0margs\u001b[0m \u001b[0;34m=\u001b[0m \u001b[0mprocess_dataframe_hierarchy\u001b[0m\u001b[0;34m(\u001b[0m\u001b[0margs\u001b[0m\u001b[0;34m)\u001b[0m\u001b[0;34m\u001b[0m\u001b[0;34m\u001b[0m\u001b[0m\n",
          "\u001b[0;32m~/opt/miniconda3/lib/python3.8/site-packages/plotly/express/_core.py\u001b[0m in \u001b[0;36mbuild_dataframe\u001b[0;34m(args, constructor)\u001b[0m\n\u001b[1;32m   1403\u001b[0m     \u001b[0;31m# now that things have been prepped, we do the systematic rewriting of `args`\u001b[0m\u001b[0;34m\u001b[0m\u001b[0;34m\u001b[0m\u001b[0;34m\u001b[0m\u001b[0m\n\u001b[1;32m   1404\u001b[0m \u001b[0;34m\u001b[0m\u001b[0m\n\u001b[0;32m-> 1405\u001b[0;31m     df_output, wide_id_vars = process_args_into_dataframe(\n\u001b[0m\u001b[1;32m   1406\u001b[0m         \u001b[0margs\u001b[0m\u001b[0;34m,\u001b[0m \u001b[0mwide_mode\u001b[0m\u001b[0;34m,\u001b[0m \u001b[0mvar_name\u001b[0m\u001b[0;34m,\u001b[0m \u001b[0mvalue_name\u001b[0m\u001b[0;34m\u001b[0m\u001b[0;34m\u001b[0m\u001b[0m\n\u001b[1;32m   1407\u001b[0m     )\n",
          "\u001b[0;32m~/opt/miniconda3/lib/python3.8/site-packages/plotly/express/_core.py\u001b[0m in \u001b[0;36mprocess_args_into_dataframe\u001b[0;34m(args, wide_mode, var_name, value_name)\u001b[0m\n\u001b[1;32m   1205\u001b[0m                         \u001b[0;32mif\u001b[0m \u001b[0margument\u001b[0m \u001b[0;34m==\u001b[0m \u001b[0;34m\"index\"\u001b[0m\u001b[0;34m:\u001b[0m\u001b[0;34m\u001b[0m\u001b[0;34m\u001b[0m\u001b[0m\n\u001b[1;32m   1206\u001b[0m                             \u001b[0merr_msg\u001b[0m \u001b[0;34m+=\u001b[0m \u001b[0;34m\"\\n To use the index, pass it in directly as `df.index`.\"\u001b[0m\u001b[0;34m\u001b[0m\u001b[0;34m\u001b[0m\u001b[0m\n\u001b[0;32m-> 1207\u001b[0;31m                         \u001b[0;32mraise\u001b[0m \u001b[0mValueError\u001b[0m\u001b[0;34m(\u001b[0m\u001b[0merr_msg\u001b[0m\u001b[0;34m)\u001b[0m\u001b[0;34m\u001b[0m\u001b[0;34m\u001b[0m\u001b[0m\n\u001b[0m\u001b[1;32m   1208\u001b[0m                 \u001b[0;32melif\u001b[0m \u001b[0mlength\u001b[0m \u001b[0;32mand\u001b[0m \u001b[0mlen\u001b[0m\u001b[0;34m(\u001b[0m\u001b[0mdf_input\u001b[0m\u001b[0;34m[\u001b[0m\u001b[0margument\u001b[0m\u001b[0;34m]\u001b[0m\u001b[0;34m)\u001b[0m \u001b[0;34m!=\u001b[0m \u001b[0mlength\u001b[0m\u001b[0;34m:\u001b[0m\u001b[0;34m\u001b[0m\u001b[0;34m\u001b[0m\u001b[0m\n\u001b[1;32m   1209\u001b[0m                     raise ValueError(\n",
          "\u001b[0;31mValueError\u001b[0m: Value of 'x' is not the name of a column in 'data_frame'. Expected one of ['Category', 'Item', 'Serving Size', 'Calories', 'Calories from Fat', 'Total Fat'] but received: housing_median_age"
         ]
        }
       ]
      }
     },
     "638267013a7141f184055f3b50dec354": {
      "model_module": "@jupyter-widgets/controls",
      "model_module_version": "1.5.0",
      "model_name": "VBoxModel",
      "state": {
       "_dom_classes": [
        "widget-interact"
       ],
       "children": [
        "IPY_MODEL_a45ef8b7ca2542aba7dfeb3d44eca1fb",
        "IPY_MODEL_c7a99d5a0bee4986882041ac67b4c405"
       ],
       "layout": "IPY_MODEL_d6ea24c242b2406d9d083f1207ee5fb5"
      }
     },
     "69258ccec6a04f50bef885c930d4e9f2": {
      "model_module": "@jupyter-widgets/base",
      "model_module_version": "1.2.0",
      "model_name": "LayoutModel",
      "state": {}
     },
     "69ccc3023a0c48cb96bbd2d63dce0aee": {
      "model_module": "@jupyter-widgets/controls",
      "model_module_version": "1.5.0",
      "model_name": "IntRangeSliderModel",
      "state": {
       "_model_name": "IntRangeSliderModel",
       "_view_name": "IntRangeSliderView",
       "description": "Calories:",
       "layout": "IPY_MODEL_a87dc571139d4fd98739387ee3cb15f2",
       "max": 1880,
       "readout_format": ",",
       "step": 10,
       "style": "IPY_MODEL_4af1b66277d649f099492ebd2723d5d7",
       "value": [
        0,
        1880
       ]
      }
     },
     "6bfeba49bfee4163afaec8ec5211c861": {
      "model_module": "@jupyter-widgets/controls",
      "model_module_version": "1.5.0",
      "model_name": "DescriptionStyleModel",
      "state": {
       "description_width": ""
      }
     },
     "6c3db55de56a4ff4ac69df3c3221d296": {
      "model_module": "@jupyter-widgets/output",
      "model_module_version": "1.0.0",
      "model_name": "OutputModel",
      "state": {
       "layout": "IPY_MODEL_4461516677d045799c5c6b02bc406ec4",
       "outputs": [
        {
         "data": {
          "image/png": "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\n",
          "text/plain": "<Figure size 288x432 with 1 Axes>"
         },
         "metadata": {
          "image/png": {
           "height": 344,
           "width": 277
          },
          "needs_background": "light"
         },
         "output_type": "display_data"
        }
       ]
      }
     },
     "6d585e9871ca4da782d5c0f599b4da34": {
      "model_module": "@jupyter-widgets/base",
      "model_module_version": "1.2.0",
      "model_name": "LayoutModel",
      "state": {}
     },
     "6d5b91eaaf994780b649f45dc8c5b21c": {
      "model_module": "@jupyter-widgets/output",
      "model_module_version": "1.0.0",
      "model_name": "OutputModel",
      "state": {
       "layout": "IPY_MODEL_1d3d559c6b8044e69a637fd296408407",
       "outputs": [
        {
         "data": {
          "image/png": "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\n",
          "text/plain": "<Figure size 288x288 with 1 Axes>"
         },
         "metadata": {
          "image/png": {
           "height": 261,
           "width": 270
          },
          "needs_background": "light"
         },
         "output_type": "display_data"
        }
       ]
      }
     },
     "708d28429f634283a9978c644bf8ca7b": {
      "model_module": "@jupyter-widgets/controls",
      "model_module_version": "1.5.0",
      "model_name": "IntRangeSliderModel",
      "state": {
       "_model_name": "IntRangeSliderModel",
       "_view_name": "IntRangeSliderView",
       "description": "Calories:",
       "layout": "IPY_MODEL_8c6d0cb811e547a99da2ce3c6c0cfa88",
       "max": 1880,
       "readout_format": ",",
       "step": 10,
       "style": "IPY_MODEL_d6ea45bedbf543f79aff6675406c7527",
       "value": [
        0,
        1880
       ]
      }
     },
     "7452cdb0f97a4e2ba4ccf720165be98d": {
      "model_module": "@jupyter-widgets/controls",
      "model_module_version": "1.5.0",
      "model_name": "DropdownModel",
      "state": {
       "_options_labels": [
        "housing_median_age",
        "total_rooms",
        "total_bedrooms",
        "population",
        "households",
        "median_income",
        "median_house_value"
       ],
       "description": "indicator",
       "index": 0,
       "layout": "IPY_MODEL_0354e480089443549ce16ea26f6104a1",
       "style": "IPY_MODEL_e56995e0c667480388313d4432767f09"
      }
     },
     "7516a6bbd03c4066a63ddc25949fe8ac": {
      "model_module": "@jupyter-widgets/base",
      "model_module_version": "1.2.0",
      "model_name": "LayoutModel",
      "state": {}
     },
     "7641cd6c4f874a189c05483974bca357": {
      "model_module": "@jupyter-widgets/base",
      "model_module_version": "1.2.0",
      "model_name": "LayoutModel",
      "state": {}
     },
     "773bc2804a14451eac21e4ff1b77172f": {
      "model_module": "@jupyter-widgets/controls",
      "model_module_version": "1.5.0",
      "model_name": "VBoxModel",
      "state": {
       "_dom_classes": [
        "widget-interact"
       ],
       "children": [
        "IPY_MODEL_708d28429f634283a9978c644bf8ca7b",
        "IPY_MODEL_355cc36140ea405b845109aed90e3cf2"
       ],
       "layout": "IPY_MODEL_15c889667e344107832e4cc3ee37e4ba"
      }
     },
     "7ae86993f91749ee85360f2dc6afc1b3": {
      "model_module": "@jupyter-widgets/output",
      "model_module_version": "1.0.0",
      "model_name": "OutputModel",
      "state": {
       "layout": "IPY_MODEL_004bf121ba9144aa99db1d8e823384f3",
       "outputs": [
        {
         "name": "stderr",
         "output_type": "stream",
         "text": "/Users/prasert/opt/miniconda3/lib/python3.8/site-packages/seaborn/distributions.py:2619: FutureWarning:\n\n`distplot` is a deprecated function and will be removed in a future version. Please adapt your code to use either `displot` (a figure-level function with similar flexibility) or `histplot` (an axes-level function for histograms).\n\n"
        },
        {
         "data": {
          "image/png": "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\n",
          "text/plain": "<Figure size 288x432 with 1 Axes>"
         },
         "metadata": {
          "image/png": {
           "height": 370,
           "width": 280
          },
          "needs_background": "light"
         },
         "output_type": "display_data"
        }
       ]
      }
     },
     "7d11a1787ef24a04b506577e8a25b33f": {
      "model_module": "@jupyter-widgets/controls",
      "model_module_version": "1.5.0",
      "model_name": "DescriptionStyleModel",
      "state": {
       "description_width": ""
      }
     },
     "7e4b6eb5d28d4bd0a315c9273818bbe9": {
      "model_module": "@jupyter-widgets/controls",
      "model_module_version": "1.5.0",
      "model_name": "DescriptionStyleModel",
      "state": {
       "description_width": ""
      }
     },
     "7e6269ebcaa94c0380352513fe7bc404": {
      "model_module": "@jupyter-widgets/controls",
      "model_module_version": "1.5.0",
      "model_name": "DescriptionStyleModel",
      "state": {
       "description_width": ""
      }
     },
     "815c4564a3da454ba34dab08c7f03c97": {
      "model_module": "@jupyter-widgets/base",
      "model_module_version": "1.2.0",
      "model_name": "LayoutModel",
      "state": {}
     },
     "8aa76550f79b4ecb910a65eeea798267": {
      "model_module": "@jupyter-widgets/controls",
      "model_module_version": "1.5.0",
      "model_name": "TextModel",
      "state": {
       "description": "regex_pat",
       "layout": "IPY_MODEL_fc726710c1874c97969511300ef68eaa",
       "style": "IPY_MODEL_7d11a1787ef24a04b506577e8a25b33f",
       "value": "."
      }
     },
     "8c0e289036b544bbaf435a37cfaa30dd": {
      "model_module": "@jupyter-widgets/controls",
      "model_module_version": "1.5.0",
      "model_name": "DropdownModel",
      "state": {
       "_options_labels": [
        "Calories",
        "Total Fat"
       ],
       "description": "indicator",
       "index": 0,
       "layout": "IPY_MODEL_2ed7b19ae6244c97866a06736d9f4dc4",
       "style": "IPY_MODEL_6bfeba49bfee4163afaec8ec5211c861"
      }
     },
     "8c6d0cb811e547a99da2ce3c6c0cfa88": {
      "model_module": "@jupyter-widgets/base",
      "model_module_version": "1.2.0",
      "model_name": "LayoutModel",
      "state": {}
     },
     "8ccfc272f56345b9be4e713daa5c9093": {
      "model_module": "@jupyter-widgets/controls",
      "model_module_version": "1.5.0",
      "model_name": "VBoxModel",
      "state": {
       "_dom_classes": [
        "widget-interact"
       ],
       "children": [
        "IPY_MODEL_a23314b7c25641fa92611ec719180697",
        "IPY_MODEL_6d5b91eaaf994780b649f45dc8c5b21c"
       ],
       "layout": "IPY_MODEL_b1851b1097a7470fbc86470748059984"
      }
     },
     "954aa8cee65449798ee879298aa4f632": {
      "model_module": "@jupyter-widgets/base",
      "model_module_version": "1.2.0",
      "model_name": "LayoutModel",
      "state": {}
     },
     "973febe6c0f14db0944e52610d3288d1": {
      "model_module": "@jupyter-widgets/controls",
      "model_module_version": "1.5.0",
      "model_name": "VBoxModel",
      "state": {
       "_dom_classes": [
        "widget-interact"
       ],
       "children": [
        "IPY_MODEL_224257f2c2814eb6ab76c0b3c864e149",
        "IPY_MODEL_d155af3f41f343a1bd4c5f20ff5c44ab"
       ],
       "layout": "IPY_MODEL_036b53e018b14bedaca9eb1fe71ae1cc"
      }
     },
     "984456e385164240941fcb8b89fb6a2e": {
      "model_module": "@jupyter-widgets/controls",
      "model_module_version": "1.5.0",
      "model_name": "DropdownModel",
      "state": {
       "_options_labels": [
        "Calories",
        "Total Fat"
       ],
       "description": "indicator",
       "index": 1,
       "layout": "IPY_MODEL_2f22ab1d491b4afe96a46f308efa99c1",
       "style": "IPY_MODEL_e369e028393745509132bc2282c2a3bd"
      }
     },
     "9998397083ca4c99b1c9d7b5b92331c6": {
      "model_module": "@jupyter-widgets/base",
      "model_module_version": "1.2.0",
      "model_name": "LayoutModel",
      "state": {}
     },
     "9ccb70656c5b4ed9916f8ac860092cc9": {
      "model_module": "@jupyter-widgets/output",
      "model_module_version": "1.0.0",
      "model_name": "OutputModel",
      "state": {
       "layout": "IPY_MODEL_0e3bf6799f764a7ca73b1f529be6600c",
       "outputs": [
        {
         "data": {
          "image/png": "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\n",
          "text/plain": "<Figure size 288x288 with 1 Axes>"
         },
         "metadata": {
          "image/png": {
           "height": 261,
           "width": 273
          },
          "needs_background": "light"
         },
         "output_type": "display_data"
        }
       ]
      }
     },
     "a117425ac7c74379b359c270ca49dddb": {
      "model_module": "@jupyter-widgets/base",
      "model_module_version": "1.2.0",
      "model_name": "LayoutModel",
      "state": {}
     },
     "a23314b7c25641fa92611ec719180697": {
      "model_module": "@jupyter-widgets/controls",
      "model_module_version": "1.5.0",
      "model_name": "DropdownModel",
      "state": {
       "_options_labels": [
        "Calories",
        "Total Fat"
       ],
       "description": "indicator",
       "index": 0,
       "layout": "IPY_MODEL_5100831c456945aebaae858541958722",
       "style": "IPY_MODEL_f74fcd835a704435bf854cc1741d31aa"
      }
     },
     "a280b2ba201f4dc295396588b2660847": {
      "model_module": "@jupyter-widgets/output",
      "model_module_version": "1.0.0",
      "model_name": "OutputModel",
      "state": {
       "layout": "IPY_MODEL_3850fb133840486ca0ca68b832bb41a4",
       "outputs": [
        {
         "data": {
          "text/plain": "<Figure size 288x288 with 0 Axes>"
         },
         "metadata": {},
         "output_type": "display_data"
        },
        {
         "data": {
          "image/png": "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\n",
          "text/plain": "<Figure size 360x360 with 1 Axes>"
         },
         "metadata": {
          "image/png": {
           "height": 351,
           "width": 352
          },
          "needs_background": "light"
         },
         "output_type": "display_data"
        }
       ]
      }
     },
     "a43ada1562b74c99a86105ec8bf4442b": {
      "model_module": "@jupyter-widgets/output",
      "model_module_version": "1.0.0",
      "model_name": "OutputModel",
      "state": {
       "layout": "IPY_MODEL_fab476cc9d5645d6837396181d9e9c2a",
       "outputs": [
        {
         "name": "stderr",
         "output_type": "stream",
         "text": "/Users/prasert/opt/miniconda3/lib/python3.8/site-packages/seaborn/distributions.py:2619: FutureWarning:\n\n`distplot` is a deprecated function and will be removed in a future version. Please adapt your code to use either `displot` (a figure-level function with similar flexibility) or `histplot` (an axes-level function for histograms).\n\n"
        },
        {
         "data": {
          "image/png": "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\n",
          "text/plain": "<Figure size 288x288 with 1 Axes>"
         },
         "metadata": {
          "image/png": {
           "height": 261,
           "width": 280
          },
          "needs_background": "light"
         },
         "output_type": "display_data"
        }
       ]
      }
     },
     "a45ef8b7ca2542aba7dfeb3d44eca1fb": {
      "model_module": "@jupyter-widgets/controls",
      "model_module_version": "1.5.0",
      "model_name": "TextModel",
      "state": {
       "description": "regex_pat",
       "layout": "IPY_MODEL_13d989ec3130442db630aa6650e1aff5",
       "style": "IPY_MODEL_4f697d37a18344ee960fd9482deb03f3",
       "value": "."
      }
     },
     "a6cfdc7d5d9c473cb336be71b86c4d5f": {
      "model_module": "@jupyter-widgets/controls",
      "model_module_version": "1.5.0",
      "model_name": "VBoxModel",
      "state": {
       "_dom_classes": [
        "widget-interact"
       ],
       "children": [
        "IPY_MODEL_ec50784e6aa74cd7a403a7e46f6ef32b",
        "IPY_MODEL_9ccb70656c5b4ed9916f8ac860092cc9"
       ],
       "layout": "IPY_MODEL_7516a6bbd03c4066a63ddc25949fe8ac"
      }
     },
     "a87dc571139d4fd98739387ee3cb15f2": {
      "model_module": "@jupyter-widgets/base",
      "model_module_version": "1.2.0",
      "model_name": "LayoutModel",
      "state": {}
     },
     "b1851b1097a7470fbc86470748059984": {
      "model_module": "@jupyter-widgets/base",
      "model_module_version": "1.2.0",
      "model_name": "LayoutModel",
      "state": {}
     },
     "b28f1f5af09b4237a6b1a78766cdce75": {
      "model_module": "@jupyter-widgets/controls",
      "model_module_version": "1.5.0",
      "model_name": "DropdownModel",
      "state": {
       "_options_labels": [
        "Calories",
        "Total Fat"
       ],
       "description": "indicator",
       "index": 1,
       "layout": "IPY_MODEL_5594f175e50a40ccb54739a084c43f7a",
       "style": "IPY_MODEL_bf84066d875d45ea8e549b417ec8ffd1"
      }
     },
     "b76ae88f57a44c1b8612ed6ec698fae6": {
      "model_module": "@jupyter-widgets/controls",
      "model_module_version": "1.5.0",
      "model_name": "VBoxModel",
      "state": {
       "_dom_classes": [
        "widget-interact"
       ],
       "children": [
        "IPY_MODEL_1a551db6f9594435b3705ed3b6fca5c6",
        "IPY_MODEL_a43ada1562b74c99a86105ec8bf4442b"
       ],
       "layout": "IPY_MODEL_fff7536f0d4a4eba88f27a1c13b2ffbe"
      }
     },
     "bf84066d875d45ea8e549b417ec8ffd1": {
      "model_module": "@jupyter-widgets/controls",
      "model_module_version": "1.5.0",
      "model_name": "DescriptionStyleModel",
      "state": {
       "description_width": ""
      }
     },
     "c039538bc04f4276ba9311c79d094c29": {
      "model_module": "@jupyter-widgets/controls",
      "model_module_version": "1.5.0",
      "model_name": "VBoxModel",
      "state": {
       "_dom_classes": [
        "widget-interact"
       ],
       "children": [
        "IPY_MODEL_b28f1f5af09b4237a6b1a78766cdce75",
        "IPY_MODEL_6c3db55de56a4ff4ac69df3c3221d296"
       ],
       "layout": "IPY_MODEL_69258ccec6a04f50bef885c930d4e9f2"
      }
     },
     "c3f9d5689b85410dad675bd77edeaabc": {
      "model_module": "@jupyter-widgets/base",
      "model_module_version": "1.2.0",
      "model_name": "LayoutModel",
      "state": {}
     },
     "c6d0c5e10c5b48b2957b995ac33b5623": {
      "model_module": "@jupyter-widgets/base",
      "model_module_version": "1.2.0",
      "model_name": "LayoutModel",
      "state": {}
     },
     "c7a99d5a0bee4986882041ac67b4c405": {
      "model_module": "@jupyter-widgets/output",
      "model_module_version": "1.0.0",
      "model_name": "OutputModel",
      "state": {
       "layout": "IPY_MODEL_f3cd5932d7d2453da16b3b705b616946",
       "outputs": [
        {
         "data": {
          "text/html": "<div>\n<style scoped>\n    .dataframe tbody tr th:only-of-type {\n        vertical-align: middle;\n    }\n\n    .dataframe tbody tr th {\n        vertical-align: top;\n    }\n\n    .dataframe thead th {\n        text-align: right;\n    }\n</style>\n<table border=\"1\" class=\"dataframe\">\n  <thead>\n    <tr style=\"text-align: right;\">\n      <th></th>\n      <th>Category</th>\n      <th>Item</th>\n      <th>Serving Size</th>\n      <th>Calories</th>\n      <th>Calories from Fat</th>\n      <th>Total Fat</th>\n    </tr>\n  </thead>\n  <tbody>\n    <tr>\n      <th>130</th>\n      <td>Beverages</td>\n      <td>1% Low Fat Milk Jug</td>\n      <td>1 carton (236 ml)</td>\n      <td>100</td>\n      <td>20</td>\n      <td>2.5</td>\n    </tr>\n    <tr>\n      <th>101</th>\n      <td>Snacks &amp; Sides</td>\n      <td>Apple Slices</td>\n      <td>1.2 oz (34 g)</td>\n      <td>15</td>\n      <td>0</td>\n      <td>0.0</td>\n    </tr>\n    <tr>\n      <th>68</th>\n      <td>Chicken &amp; Fish</td>\n      <td>Bacon Buffalo Ranch McChicken</td>\n      <td>5.7 oz (161 g)</td>\n      <td>430</td>\n      <td>190</td>\n      <td>21.0</td>\n    </tr>\n    <tr>\n      <th>67</th>\n      <td>Chicken &amp; Fish</td>\n      <td>Bacon Cheddar McChicken</td>\n      <td>6 oz (171 g)</td>\n      <td>480</td>\n      <td>220</td>\n      <td>24.0</td>\n    </tr>\n    <tr>\n      <th>51</th>\n      <td>Beef &amp; Pork</td>\n      <td>Bacon Clubhouse Burger</td>\n      <td>9.5 oz (270 g)</td>\n      <td>720</td>\n      <td>360</td>\n      <td>40.0</td>\n    </tr>\n    <tr>\n      <th>...</th>\n      <td>...</td>\n      <td>...</td>\n      <td>...</td>\n      <td>...</td>\n      <td>...</td>\n      <td>...</td>\n    </tr>\n    <tr>\n      <th>142</th>\n      <td>Coffee &amp; Tea</td>\n      <td>Sweet Tea (Medium)</td>\n      <td>21 fl oz cup</td>\n      <td>180</td>\n      <td>0</td>\n      <td>0.0</td>\n    </tr>\n    <tr>\n      <th>141</th>\n      <td>Coffee &amp; Tea</td>\n      <td>Sweet Tea (Small)</td>\n      <td>16 fl oz cup</td>\n      <td>150</td>\n      <td>0</td>\n      <td>0.0</td>\n    </tr>\n    <tr>\n      <th>243</th>\n      <td>Smoothies &amp; Shakes</td>\n      <td>Vanilla Shake (Large)</td>\n      <td>22 fl oz cup</td>\n      <td>820</td>\n      <td>210</td>\n      <td>23.0</td>\n    </tr>\n    <tr>\n      <th>242</th>\n      <td>Smoothies &amp; Shakes</td>\n      <td>Vanilla Shake (Medium)</td>\n      <td>16 fl oz cup</td>\n      <td>660</td>\n      <td>170</td>\n      <td>19.0</td>\n    </tr>\n    <tr>\n      <th>241</th>\n      <td>Smoothies &amp; Shakes</td>\n      <td>Vanilla Shake (Small)</td>\n      <td>12 fl oz cup</td>\n      <td>530</td>\n      <td>140</td>\n      <td>15.0</td>\n    </tr>\n  </tbody>\n</table>\n<p>260 rows × 6 columns</p>\n</div>",
          "text/plain": "               Category                           Item       Serving Size  \\\n130           Beverages            1% Low Fat Milk Jug  1 carton (236 ml)   \n101      Snacks & Sides                   Apple Slices      1.2 oz (34 g)   \n68       Chicken & Fish  Bacon Buffalo Ranch McChicken     5.7 oz (161 g)   \n67       Chicken & Fish        Bacon Cheddar McChicken       6 oz (171 g)   \n51          Beef & Pork         Bacon Clubhouse Burger     9.5 oz (270 g)   \n..                  ...                            ...                ...   \n142        Coffee & Tea             Sweet Tea (Medium)       21 fl oz cup   \n141        Coffee & Tea              Sweet Tea (Small)       16 fl oz cup   \n243  Smoothies & Shakes          Vanilla Shake (Large)       22 fl oz cup   \n242  Smoothies & Shakes         Vanilla Shake (Medium)       16 fl oz cup   \n241  Smoothies & Shakes          Vanilla Shake (Small)       12 fl oz cup   \n\n     Calories  Calories from Fat  Total Fat  \n130       100                 20        2.5  \n101        15                  0        0.0  \n68        430                190       21.0  \n67        480                220       24.0  \n51        720                360       40.0  \n..        ...                ...        ...  \n142       180                  0        0.0  \n141       150                  0        0.0  \n243       820                210       23.0  \n242       660                170       19.0  \n241       530                140       15.0  \n\n[260 rows x 6 columns]"
         },
         "metadata": {},
         "output_type": "display_data"
        }
       ]
      }
     },
     "c8b6aadf8fb64726a72557f532215f38": {
      "model_module": "@jupyter-widgets/base",
      "model_module_version": "1.2.0",
      "model_name": "LayoutModel",
      "state": {}
     },
     "d155af3f41f343a1bd4c5f20ff5c44ab": {
      "model_module": "@jupyter-widgets/output",
      "model_module_version": "1.0.0",
      "model_name": "OutputModel",
      "state": {
       "layout": "IPY_MODEL_815c4564a3da454ba34dab08c7f03c97",
       "outputs": [
        {
         "ename": "ModuleNotFoundError",
         "evalue": "No module named 'tenacity'",
         "output_type": "error",
         "traceback": [
          "\u001b[0;31m---------------------------------------------------------------------------\u001b[0m",
          "\u001b[0;31mModuleNotFoundError\u001b[0m                       Traceback (most recent call last)",
          "\u001b[0;32m~/opt/miniconda3/lib/python3.8/site-packages/ipywidgets/widgets/interaction.py\u001b[0m in \u001b[0;36mupdate\u001b[0;34m(self, *args)\u001b[0m\n\u001b[1;32m    255\u001b[0m                     \u001b[0mvalue\u001b[0m \u001b[0;34m=\u001b[0m \u001b[0mwidget\u001b[0m\u001b[0;34m.\u001b[0m\u001b[0mget_interact_value\u001b[0m\u001b[0;34m(\u001b[0m\u001b[0;34m)\u001b[0m\u001b[0;34m\u001b[0m\u001b[0;34m\u001b[0m\u001b[0m\n\u001b[1;32m    256\u001b[0m                     \u001b[0mself\u001b[0m\u001b[0;34m.\u001b[0m\u001b[0mkwargs\u001b[0m\u001b[0;34m[\u001b[0m\u001b[0mwidget\u001b[0m\u001b[0;34m.\u001b[0m\u001b[0m_kwarg\u001b[0m\u001b[0;34m]\u001b[0m \u001b[0;34m=\u001b[0m \u001b[0mvalue\u001b[0m\u001b[0;34m\u001b[0m\u001b[0;34m\u001b[0m\u001b[0m\n\u001b[0;32m--> 257\u001b[0;31m                 \u001b[0mself\u001b[0m\u001b[0;34m.\u001b[0m\u001b[0mresult\u001b[0m \u001b[0;34m=\u001b[0m \u001b[0mself\u001b[0m\u001b[0;34m.\u001b[0m\u001b[0mf\u001b[0m\u001b[0;34m(\u001b[0m\u001b[0;34m**\u001b[0m\u001b[0mself\u001b[0m\u001b[0;34m.\u001b[0m\u001b[0mkwargs\u001b[0m\u001b[0;34m)\u001b[0m\u001b[0;34m\u001b[0m\u001b[0;34m\u001b[0m\u001b[0m\n\u001b[0m\u001b[1;32m    258\u001b[0m                 \u001b[0mshow_inline_matplotlib_plots\u001b[0m\u001b[0;34m(\u001b[0m\u001b[0;34m)\u001b[0m\u001b[0;34m\u001b[0m\u001b[0;34m\u001b[0m\u001b[0m\n\u001b[1;32m    259\u001b[0m                 \u001b[0;32mif\u001b[0m \u001b[0mself\u001b[0m\u001b[0;34m.\u001b[0m\u001b[0mauto_display\u001b[0m \u001b[0;32mand\u001b[0m \u001b[0mself\u001b[0m\u001b[0;34m.\u001b[0m\u001b[0mresult\u001b[0m \u001b[0;32mis\u001b[0m \u001b[0;32mnot\u001b[0m \u001b[0;32mNone\u001b[0m\u001b[0;34m:\u001b[0m\u001b[0;34m\u001b[0m\u001b[0;34m\u001b[0m\u001b[0m\n",
          "\u001b[0;32m/var/folders/d4/z_5z0yms7f98735ygm3t8vgh0000gn/T/ipykernel_2146/2474165767.py\u001b[0m in \u001b[0;36mplot_chart\u001b[0;34m(indicator)\u001b[0m\n\u001b[1;32m      8\u001b[0m     \u001b[0;31m# interactive plotly express only work with Jupyter Notebook not VSCode\u001b[0m\u001b[0;34m\u001b[0m\u001b[0;34m\u001b[0m\u001b[0;34m\u001b[0m\u001b[0m\n\u001b[1;32m      9\u001b[0m     \u001b[0mfig\u001b[0m\u001b[0;34m=\u001b[0m\u001b[0mpx\u001b[0m\u001b[0;34m.\u001b[0m\u001b[0mbox\u001b[0m\u001b[0;34m(\u001b[0m\u001b[0mdf\u001b[0m\u001b[0;34m,\u001b[0m \u001b[0mx\u001b[0m\u001b[0;34m=\u001b[0m\u001b[0mindicator\u001b[0m\u001b[0;34m)\u001b[0m\u001b[0;34m\u001b[0m\u001b[0;34m\u001b[0m\u001b[0m\n\u001b[0;32m---> 10\u001b[0;31m     \u001b[0mfig\u001b[0m\u001b[0;34m.\u001b[0m\u001b[0mshow\u001b[0m\u001b[0;34m(\u001b[0m\u001b[0;34m)\u001b[0m\u001b[0;34m\u001b[0m\u001b[0;34m\u001b[0m\u001b[0m\n\u001b[0m\u001b[1;32m     11\u001b[0m \u001b[0;34m\u001b[0m\u001b[0m\n\u001b[1;32m     12\u001b[0m     \u001b[0;31m# interactive seaborn works well in both Jupyter Notebook and VSCode\u001b[0m\u001b[0;34m\u001b[0m\u001b[0;34m\u001b[0m\u001b[0;34m\u001b[0m\u001b[0m\n",
          "\u001b[0;32m~/opt/miniconda3/lib/python3.8/site-packages/plotly/basedatatypes.py\u001b[0m in \u001b[0;36mshow\u001b[0;34m(self, *args, **kwargs)\u001b[0m\n\u001b[1;32m   3396\u001b[0m         \u001b[0;32mimport\u001b[0m \u001b[0mplotly\u001b[0m\u001b[0;34m.\u001b[0m\u001b[0mio\u001b[0m \u001b[0;32mas\u001b[0m \u001b[0mpio\u001b[0m\u001b[0;34m\u001b[0m\u001b[0;34m\u001b[0m\u001b[0m\n\u001b[1;32m   3397\u001b[0m \u001b[0;34m\u001b[0m\u001b[0m\n\u001b[0;32m-> 3398\u001b[0;31m         \u001b[0;32mreturn\u001b[0m \u001b[0mpio\u001b[0m\u001b[0;34m.\u001b[0m\u001b[0mshow\u001b[0m\u001b[0;34m(\u001b[0m\u001b[0mself\u001b[0m\u001b[0;34m,\u001b[0m \u001b[0;34m*\u001b[0m\u001b[0margs\u001b[0m\u001b[0;34m,\u001b[0m \u001b[0;34m**\u001b[0m\u001b[0mkwargs\u001b[0m\u001b[0;34m)\u001b[0m\u001b[0;34m\u001b[0m\u001b[0;34m\u001b[0m\u001b[0m\n\u001b[0m\u001b[1;32m   3399\u001b[0m \u001b[0;34m\u001b[0m\u001b[0m\n\u001b[1;32m   3400\u001b[0m     \u001b[0;32mdef\u001b[0m \u001b[0mto_json\u001b[0m\u001b[0;34m(\u001b[0m\u001b[0mself\u001b[0m\u001b[0;34m,\u001b[0m \u001b[0;34m*\u001b[0m\u001b[0margs\u001b[0m\u001b[0;34m,\u001b[0m \u001b[0;34m**\u001b[0m\u001b[0mkwargs\u001b[0m\u001b[0;34m)\u001b[0m\u001b[0;34m:\u001b[0m\u001b[0;34m\u001b[0m\u001b[0;34m\u001b[0m\u001b[0m\n",
          "\u001b[0;32m~/opt/miniconda3/lib/python3.8/site-packages/_plotly_utils/importers.py\u001b[0m in \u001b[0;36m__getattr__\u001b[0;34m(import_name)\u001b[0m\n\u001b[1;32m     34\u001b[0m             \u001b[0mrel_module\u001b[0m \u001b[0;34m=\u001b[0m \u001b[0;34m\".\"\u001b[0m\u001b[0;34m.\u001b[0m\u001b[0mjoin\u001b[0m\u001b[0;34m(\u001b[0m\u001b[0mrel_path_parts\u001b[0m\u001b[0;34m[\u001b[0m\u001b[0;34m:\u001b[0m\u001b[0;34m-\u001b[0m\u001b[0;36m1\u001b[0m\u001b[0;34m]\u001b[0m\u001b[0;34m)\u001b[0m\u001b[0;34m\u001b[0m\u001b[0;34m\u001b[0m\u001b[0m\n\u001b[1;32m     35\u001b[0m             \u001b[0mclass_name\u001b[0m \u001b[0;34m=\u001b[0m \u001b[0mimport_name\u001b[0m\u001b[0;34m\u001b[0m\u001b[0;34m\u001b[0m\u001b[0m\n\u001b[0;32m---> 36\u001b[0;31m             \u001b[0mclass_module\u001b[0m \u001b[0;34m=\u001b[0m \u001b[0mimportlib\u001b[0m\u001b[0;34m.\u001b[0m\u001b[0mimport_module\u001b[0m\u001b[0;34m(\u001b[0m\u001b[0mrel_module\u001b[0m\u001b[0;34m,\u001b[0m \u001b[0mparent_name\u001b[0m\u001b[0;34m)\u001b[0m\u001b[0;34m\u001b[0m\u001b[0;34m\u001b[0m\u001b[0m\n\u001b[0m\u001b[1;32m     37\u001b[0m             \u001b[0;32mreturn\u001b[0m \u001b[0mgetattr\u001b[0m\u001b[0;34m(\u001b[0m\u001b[0mclass_module\u001b[0m\u001b[0;34m,\u001b[0m \u001b[0mclass_name\u001b[0m\u001b[0;34m)\u001b[0m\u001b[0;34m\u001b[0m\u001b[0;34m\u001b[0m\u001b[0m\n\u001b[1;32m     38\u001b[0m \u001b[0;34m\u001b[0m\u001b[0m\n",
          "\u001b[0;32m~/opt/miniconda3/lib/python3.8/importlib/__init__.py\u001b[0m in \u001b[0;36mimport_module\u001b[0;34m(name, package)\u001b[0m\n\u001b[1;32m    125\u001b[0m                 \u001b[0;32mbreak\u001b[0m\u001b[0;34m\u001b[0m\u001b[0;34m\u001b[0m\u001b[0m\n\u001b[1;32m    126\u001b[0m             \u001b[0mlevel\u001b[0m \u001b[0;34m+=\u001b[0m \u001b[0;36m1\u001b[0m\u001b[0;34m\u001b[0m\u001b[0;34m\u001b[0m\u001b[0m\n\u001b[0;32m--> 127\u001b[0;31m     \u001b[0;32mreturn\u001b[0m \u001b[0m_bootstrap\u001b[0m\u001b[0;34m.\u001b[0m\u001b[0m_gcd_import\u001b[0m\u001b[0;34m(\u001b[0m\u001b[0mname\u001b[0m\u001b[0;34m[\u001b[0m\u001b[0mlevel\u001b[0m\u001b[0;34m:\u001b[0m\u001b[0;34m]\u001b[0m\u001b[0;34m,\u001b[0m \u001b[0mpackage\u001b[0m\u001b[0;34m,\u001b[0m \u001b[0mlevel\u001b[0m\u001b[0;34m)\u001b[0m\u001b[0;34m\u001b[0m\u001b[0;34m\u001b[0m\u001b[0m\n\u001b[0m\u001b[1;32m    128\u001b[0m \u001b[0;34m\u001b[0m\u001b[0m\n\u001b[1;32m    129\u001b[0m \u001b[0;34m\u001b[0m\u001b[0m\n",
          "\u001b[0;32m~/opt/miniconda3/lib/python3.8/importlib/_bootstrap.py\u001b[0m in \u001b[0;36m_gcd_import\u001b[0;34m(name, package, level)\u001b[0m\n",
          "\u001b[0;32m~/opt/miniconda3/lib/python3.8/importlib/_bootstrap.py\u001b[0m in \u001b[0;36m_find_and_load\u001b[0;34m(name, import_)\u001b[0m\n",
          "\u001b[0;32m~/opt/miniconda3/lib/python3.8/importlib/_bootstrap.py\u001b[0m in \u001b[0;36m_find_and_load_unlocked\u001b[0;34m(name, import_)\u001b[0m\n",
          "\u001b[0;32m~/opt/miniconda3/lib/python3.8/importlib/_bootstrap.py\u001b[0m in \u001b[0;36m_load_unlocked\u001b[0;34m(spec)\u001b[0m\n",
          "\u001b[0;32m~/opt/miniconda3/lib/python3.8/importlib/_bootstrap_external.py\u001b[0m in \u001b[0;36mexec_module\u001b[0;34m(self, module)\u001b[0m\n",
          "\u001b[0;32m~/opt/miniconda3/lib/python3.8/importlib/_bootstrap.py\u001b[0m in \u001b[0;36m_call_with_frames_removed\u001b[0;34m(f, *args, **kwds)\u001b[0m\n",
          "\u001b[0;32m~/opt/miniconda3/lib/python3.8/site-packages/plotly/io/_renderers.py\u001b[0m in \u001b[0;36m<module>\u001b[0;34m\u001b[0m\n\u001b[1;32m     10\u001b[0m \u001b[0;32mfrom\u001b[0m \u001b[0mplotly\u001b[0m \u001b[0;32mimport\u001b[0m \u001b[0moptional_imports\u001b[0m\u001b[0;34m\u001b[0m\u001b[0;34m\u001b[0m\u001b[0m\n\u001b[1;32m     11\u001b[0m \u001b[0;34m\u001b[0m\u001b[0m\n\u001b[0;32m---> 12\u001b[0;31m from plotly.io._base_renderers import (\n\u001b[0m\u001b[1;32m     13\u001b[0m     \u001b[0mMimetypeRenderer\u001b[0m\u001b[0;34m,\u001b[0m\u001b[0;34m\u001b[0m\u001b[0;34m\u001b[0m\u001b[0m\n\u001b[1;32m     14\u001b[0m     \u001b[0mExternalRenderer\u001b[0m\u001b[0;34m,\u001b[0m\u001b[0;34m\u001b[0m\u001b[0;34m\u001b[0m\u001b[0m\n",
          "\u001b[0;32m~/opt/miniconda3/lib/python3.8/site-packages/plotly/io/_base_renderers.py\u001b[0m in \u001b[0;36m<module>\u001b[0;34m\u001b[0m\n\u001b[1;32m     10\u001b[0m \u001b[0;32mfrom\u001b[0m \u001b[0mplotly\u001b[0m \u001b[0;32mimport\u001b[0m \u001b[0mutils\u001b[0m\u001b[0;34m,\u001b[0m \u001b[0moptional_imports\u001b[0m\u001b[0;34m\u001b[0m\u001b[0;34m\u001b[0m\u001b[0m\n\u001b[1;32m     11\u001b[0m \u001b[0;32mfrom\u001b[0m \u001b[0mplotly\u001b[0m\u001b[0;34m.\u001b[0m\u001b[0mio\u001b[0m \u001b[0;32mimport\u001b[0m \u001b[0mto_json\u001b[0m\u001b[0;34m,\u001b[0m \u001b[0mto_image\u001b[0m\u001b[0;34m,\u001b[0m \u001b[0mwrite_image\u001b[0m\u001b[0;34m,\u001b[0m \u001b[0mwrite_html\u001b[0m\u001b[0;34m\u001b[0m\u001b[0;34m\u001b[0m\u001b[0m\n\u001b[0;32m---> 12\u001b[0;31m \u001b[0;32mfrom\u001b[0m \u001b[0mplotly\u001b[0m\u001b[0;34m.\u001b[0m\u001b[0mio\u001b[0m\u001b[0;34m.\u001b[0m\u001b[0m_orca\u001b[0m \u001b[0;32mimport\u001b[0m \u001b[0mensure_server\u001b[0m\u001b[0;34m\u001b[0m\u001b[0;34m\u001b[0m\u001b[0m\n\u001b[0m\u001b[1;32m     13\u001b[0m \u001b[0;32mfrom\u001b[0m \u001b[0mplotly\u001b[0m\u001b[0;34m.\u001b[0m\u001b[0mio\u001b[0m\u001b[0;34m.\u001b[0m\u001b[0m_utils\u001b[0m \u001b[0;32mimport\u001b[0m \u001b[0mplotly_cdn_url\u001b[0m\u001b[0;34m\u001b[0m\u001b[0;34m\u001b[0m\u001b[0m\n\u001b[1;32m     14\u001b[0m \u001b[0;32mfrom\u001b[0m \u001b[0mplotly\u001b[0m\u001b[0;34m.\u001b[0m\u001b[0moffline\u001b[0m\u001b[0;34m.\u001b[0m\u001b[0moffline\u001b[0m \u001b[0;32mimport\u001b[0m \u001b[0m_get_jconfig\u001b[0m\u001b[0;34m,\u001b[0m \u001b[0mget_plotlyjs\u001b[0m\u001b[0;34m\u001b[0m\u001b[0;34m\u001b[0m\u001b[0m\n",
          "\u001b[0;32m~/opt/miniconda3/lib/python3.8/site-packages/plotly/io/_orca.py\u001b[0m in \u001b[0;36m<module>\u001b[0;34m\u001b[0m\n\u001b[1;32m     13\u001b[0m \u001b[0;32mfrom\u001b[0m \u001b[0mpathlib\u001b[0m \u001b[0;32mimport\u001b[0m \u001b[0mPath\u001b[0m\u001b[0;34m\u001b[0m\u001b[0;34m\u001b[0m\u001b[0m\n\u001b[1;32m     14\u001b[0m \u001b[0;34m\u001b[0m\u001b[0m\n\u001b[0;32m---> 15\u001b[0;31m \u001b[0;32mimport\u001b[0m \u001b[0mtenacity\u001b[0m\u001b[0;34m\u001b[0m\u001b[0;34m\u001b[0m\u001b[0m\n\u001b[0m\u001b[1;32m     16\u001b[0m \u001b[0;32mfrom\u001b[0m \u001b[0msix\u001b[0m \u001b[0;32mimport\u001b[0m \u001b[0mstring_types\u001b[0m\u001b[0;34m\u001b[0m\u001b[0;34m\u001b[0m\u001b[0m\n\u001b[1;32m     17\u001b[0m \u001b[0;34m\u001b[0m\u001b[0m\n",
          "\u001b[0;31mModuleNotFoundError\u001b[0m: No module named 'tenacity'"
         ]
        }
       ]
      }
     },
     "d1e9cb7f5f5a4d849e221bc3010a0f91": {
      "model_module": "@jupyter-widgets/base",
      "model_module_version": "1.2.0",
      "model_name": "LayoutModel",
      "state": {}
     },
     "d5a890916809474189137b4e03a3a009": {
      "model_module": "@jupyter-widgets/base",
      "model_module_version": "1.2.0",
      "model_name": "LayoutModel",
      "state": {}
     },
     "d634800e518f44bcb4e3712232dbd3e0": {
      "model_module": "@jupyter-widgets/controls",
      "model_module_version": "1.5.0",
      "model_name": "VBoxModel",
      "state": {
       "_dom_classes": [
        "widget-interact"
       ],
       "children": [
        "IPY_MODEL_8aa76550f79b4ecb910a65eeea798267",
        "IPY_MODEL_f35e10d27e024d6ea92127fa43ea9fa4"
       ],
       "layout": "IPY_MODEL_573ebe7db078414d8fe24b9fcb7f8500"
      }
     },
     "d6ea24c242b2406d9d083f1207ee5fb5": {
      "model_module": "@jupyter-widgets/base",
      "model_module_version": "1.2.0",
      "model_name": "LayoutModel",
      "state": {}
     },
     "d6ea45bedbf543f79aff6675406c7527": {
      "model_module": "@jupyter-widgets/controls",
      "model_module_version": "1.5.0",
      "model_name": "SliderStyleModel",
      "state": {
       "description_width": ""
      }
     },
     "d8e7fc71d04b4a5bbcf2474bd24e621c": {
      "model_module": "@jupyter-widgets/controls",
      "model_module_version": "1.5.0",
      "model_name": "VBoxModel",
      "state": {
       "_dom_classes": [
        "widget-interact"
       ],
       "children": [
        "IPY_MODEL_26599f738a1948c794153b7ddaf8b56b",
        "IPY_MODEL_69ccc3023a0c48cb96bbd2d63dce0aee",
        "IPY_MODEL_deb4a95948b1492a8431f6930bdbd95c"
       ],
       "layout": "IPY_MODEL_1d912ce40db74a61af337d766737aa4f"
      }
     },
     "dbe9c16497fd4d968232c32a1dc73bb1": {
      "model_module": "@jupyter-widgets/base",
      "model_module_version": "1.2.0",
      "model_name": "LayoutModel",
      "state": {}
     },
     "deb4a95948b1492a8431f6930bdbd95c": {
      "model_module": "@jupyter-widgets/output",
      "model_module_version": "1.0.0",
      "model_name": "OutputModel",
      "state": {
       "layout": "IPY_MODEL_9998397083ca4c99b1c9d7b5b92331c6",
       "outputs": [
        {
         "data": {
          "text/html": "<div>\n<style scoped>\n    .dataframe tbody tr th:only-of-type {\n        vertical-align: middle;\n    }\n\n    .dataframe tbody tr th {\n        vertical-align: top;\n    }\n\n    .dataframe thead th {\n        text-align: right;\n    }\n</style>\n<table border=\"1\" class=\"dataframe\">\n  <thead>\n    <tr style=\"text-align: right;\">\n      <th></th>\n      <th>Category</th>\n      <th>Item</th>\n      <th>Serving Size</th>\n      <th>Calories</th>\n      <th>Calories from Fat</th>\n      <th>Total Fat</th>\n    </tr>\n  </thead>\n  <tbody>\n    <tr>\n      <th>82</th>\n      <td>Chicken &amp; Fish</td>\n      <td>Chicken McNuggets (40 piece)</td>\n      <td>22.8 oz (646 g)</td>\n      <td>1880</td>\n      <td>1060</td>\n      <td>118.0</td>\n    </tr>\n    <tr>\n      <th>32</th>\n      <td>Breakfast</td>\n      <td>Big Breakfast with Hotcakes (Large Biscuit)</td>\n      <td>15.3 oz (434 g)</td>\n      <td>1150</td>\n      <td>540</td>\n      <td>60.0</td>\n    </tr>\n    <tr>\n      <th>31</th>\n      <td>Breakfast</td>\n      <td>Big Breakfast with Hotcakes (Regular Biscuit)</td>\n      <td>14.8 oz (420 g)</td>\n      <td>1090</td>\n      <td>510</td>\n      <td>56.0</td>\n    </tr>\n    <tr>\n      <th>34</th>\n      <td>Breakfast</td>\n      <td>Big Breakfast with Hotcakes and Egg Whites (La...</td>\n      <td>15.4 oz (437 g)</td>\n      <td>1050</td>\n      <td>450</td>\n      <td>50.0</td>\n    </tr>\n    <tr>\n      <th>33</th>\n      <td>Breakfast</td>\n      <td>Big Breakfast with Hotcakes and Egg Whites (Re...</td>\n      <td>14.9 oz (423 g)</td>\n      <td>990</td>\n      <td>410</td>\n      <td>46.0</td>\n    </tr>\n    <tr>\n      <th>...</th>\n      <td>...</td>\n      <td>...</td>\n      <td>...</td>\n      <td>...</td>\n      <td>...</td>\n      <td>...</td>\n    </tr>\n    <tr>\n      <th>117</th>\n      <td>Beverages</td>\n      <td>Diet Coke (Child)</td>\n      <td>12 fl oz cup</td>\n      <td>0</td>\n      <td>0</td>\n      <td>0.0</td>\n    </tr>\n    <tr>\n      <th>116</th>\n      <td>Beverages</td>\n      <td>Diet Coke (Large)</td>\n      <td>30 fl oz cup</td>\n      <td>0</td>\n      <td>0</td>\n      <td>0.0</td>\n    </tr>\n    <tr>\n      <th>115</th>\n      <td>Beverages</td>\n      <td>Diet Coke (Medium)</td>\n      <td>21 fl oz cup</td>\n      <td>0</td>\n      <td>0</td>\n      <td>0.0</td>\n    </tr>\n    <tr>\n      <th>114</th>\n      <td>Beverages</td>\n      <td>Diet Coke (Small)</td>\n      <td>16 fl oz cup</td>\n      <td>0</td>\n      <td>0</td>\n      <td>0.0</td>\n    </tr>\n    <tr>\n      <th>146</th>\n      <td>Coffee &amp; Tea</td>\n      <td>Coffee (Medium)</td>\n      <td>16 fl oz cup</td>\n      <td>0</td>\n      <td>0</td>\n      <td>0.0</td>\n    </tr>\n  </tbody>\n</table>\n<p>260 rows × 6 columns</p>\n</div>",
          "text/plain": "           Category                                               Item  \\\n82   Chicken & Fish                       Chicken McNuggets (40 piece)   \n32        Breakfast        Big Breakfast with Hotcakes (Large Biscuit)   \n31        Breakfast      Big Breakfast with Hotcakes (Regular Biscuit)   \n34        Breakfast  Big Breakfast with Hotcakes and Egg Whites (La...   \n33        Breakfast  Big Breakfast with Hotcakes and Egg Whites (Re...   \n..              ...                                                ...   \n117       Beverages                                  Diet Coke (Child)   \n116       Beverages                                  Diet Coke (Large)   \n115       Beverages                                 Diet Coke (Medium)   \n114       Beverages                                  Diet Coke (Small)   \n146    Coffee & Tea                                    Coffee (Medium)   \n\n        Serving Size  Calories  Calories from Fat  Total Fat  \n82   22.8 oz (646 g)      1880               1060      118.0  \n32   15.3 oz (434 g)      1150                540       60.0  \n31   14.8 oz (420 g)      1090                510       56.0  \n34   15.4 oz (437 g)      1050                450       50.0  \n33   14.9 oz (423 g)       990                410       46.0  \n..               ...       ...                ...        ...  \n117     12 fl oz cup         0                  0        0.0  \n116     30 fl oz cup         0                  0        0.0  \n115     21 fl oz cup         0                  0        0.0  \n114     16 fl oz cup         0                  0        0.0  \n146     16 fl oz cup         0                  0        0.0  \n\n[260 rows x 6 columns]"
         },
         "metadata": {},
         "output_type": "display_data"
        }
       ]
      }
     },
     "e369e028393745509132bc2282c2a3bd": {
      "model_module": "@jupyter-widgets/controls",
      "model_module_version": "1.5.0",
      "model_name": "DescriptionStyleModel",
      "state": {
       "description_width": ""
      }
     },
     "e56995e0c667480388313d4432767f09": {
      "model_module": "@jupyter-widgets/controls",
      "model_module_version": "1.5.0",
      "model_name": "DescriptionStyleModel",
      "state": {
       "description_width": ""
      }
     },
     "e6f85d99f83242779fefb329cf703f0b": {
      "model_module": "@jupyter-widgets/controls",
      "model_module_version": "1.5.0",
      "model_name": "DropdownModel",
      "state": {
       "_options_labels": [
        "Calories",
        "Total Fat"
       ],
       "description": "indicator",
       "index": 0,
       "layout": "IPY_MODEL_7641cd6c4f874a189c05483974bca357",
       "style": "IPY_MODEL_23cbd53075714af2b70c51a3aad784d8"
      }
     },
     "ec50784e6aa74cd7a403a7e46f6ef32b": {
      "model_module": "@jupyter-widgets/controls",
      "model_module_version": "1.5.0",
      "model_name": "DropdownModel",
      "state": {
       "_options_labels": [
        "Calories",
        "Total Fat"
       ],
       "description": "indicator",
       "index": 1,
       "layout": "IPY_MODEL_434d0061a0034827af67c1a48b3aaf0c",
       "style": "IPY_MODEL_5b473ab0e4864a83901e1853c2b7efd7"
      }
     },
     "f35e10d27e024d6ea92127fa43ea9fa4": {
      "model_module": "@jupyter-widgets/output",
      "model_module_version": "1.0.0",
      "model_name": "OutputModel",
      "state": {
       "layout": "IPY_MODEL_d1e9cb7f5f5a4d849e221bc3010a0f91",
       "outputs": [
        {
         "data": {
          "text/html": "<div>\n<style scoped>\n    .dataframe tbody tr th:only-of-type {\n        vertical-align: middle;\n    }\n\n    .dataframe tbody tr th {\n        vertical-align: top;\n    }\n\n    .dataframe thead th {\n        text-align: right;\n    }\n</style>\n<table border=\"1\" class=\"dataframe\">\n  <thead>\n    <tr style=\"text-align: right;\">\n      <th></th>\n      <th>Category</th>\n      <th>Item</th>\n      <th>Serving Size</th>\n      <th>Calories</th>\n      <th>Calories from Fat</th>\n      <th>Total Fat</th>\n    </tr>\n  </thead>\n  <tbody>\n    <tr>\n      <th>82</th>\n      <td>Chicken &amp; Fish</td>\n      <td>Chicken McNuggets (40 piece)</td>\n      <td>22.8 oz (646 g)</td>\n      <td>1880</td>\n      <td>1060</td>\n      <td>118.0</td>\n    </tr>\n    <tr>\n      <th>32</th>\n      <td>Breakfast</td>\n      <td>Big Breakfast with Hotcakes (Large Biscuit)</td>\n      <td>15.3 oz (434 g)</td>\n      <td>1150</td>\n      <td>540</td>\n      <td>60.0</td>\n    </tr>\n    <tr>\n      <th>31</th>\n      <td>Breakfast</td>\n      <td>Big Breakfast with Hotcakes (Regular Biscuit)</td>\n      <td>14.8 oz (420 g)</td>\n      <td>1090</td>\n      <td>510</td>\n      <td>56.0</td>\n    </tr>\n    <tr>\n      <th>34</th>\n      <td>Breakfast</td>\n      <td>Big Breakfast with Hotcakes and Egg Whites (La...</td>\n      <td>15.4 oz (437 g)</td>\n      <td>1050</td>\n      <td>450</td>\n      <td>50.0</td>\n    </tr>\n    <tr>\n      <th>33</th>\n      <td>Breakfast</td>\n      <td>Big Breakfast with Hotcakes and Egg Whites (Re...</td>\n      <td>14.9 oz (423 g)</td>\n      <td>990</td>\n      <td>410</td>\n      <td>46.0</td>\n    </tr>\n    <tr>\n      <th>...</th>\n      <td>...</td>\n      <td>...</td>\n      <td>...</td>\n      <td>...</td>\n      <td>...</td>\n      <td>...</td>\n    </tr>\n    <tr>\n      <th>117</th>\n      <td>Beverages</td>\n      <td>Diet Coke (Child)</td>\n      <td>12 fl oz cup</td>\n      <td>0</td>\n      <td>0</td>\n      <td>0.0</td>\n    </tr>\n    <tr>\n      <th>116</th>\n      <td>Beverages</td>\n      <td>Diet Coke (Large)</td>\n      <td>30 fl oz cup</td>\n      <td>0</td>\n      <td>0</td>\n      <td>0.0</td>\n    </tr>\n    <tr>\n      <th>115</th>\n      <td>Beverages</td>\n      <td>Diet Coke (Medium)</td>\n      <td>21 fl oz cup</td>\n      <td>0</td>\n      <td>0</td>\n      <td>0.0</td>\n    </tr>\n    <tr>\n      <th>114</th>\n      <td>Beverages</td>\n      <td>Diet Coke (Small)</td>\n      <td>16 fl oz cup</td>\n      <td>0</td>\n      <td>0</td>\n      <td>0.0</td>\n    </tr>\n    <tr>\n      <th>146</th>\n      <td>Coffee &amp; Tea</td>\n      <td>Coffee (Medium)</td>\n      <td>16 fl oz cup</td>\n      <td>0</td>\n      <td>0</td>\n      <td>0.0</td>\n    </tr>\n  </tbody>\n</table>\n<p>260 rows × 6 columns</p>\n</div>",
          "text/plain": "           Category                                               Item  \\\n82   Chicken & Fish                       Chicken McNuggets (40 piece)   \n32        Breakfast        Big Breakfast with Hotcakes (Large Biscuit)   \n31        Breakfast      Big Breakfast with Hotcakes (Regular Biscuit)   \n34        Breakfast  Big Breakfast with Hotcakes and Egg Whites (La...   \n33        Breakfast  Big Breakfast with Hotcakes and Egg Whites (Re...   \n..              ...                                                ...   \n117       Beverages                                  Diet Coke (Child)   \n116       Beverages                                  Diet Coke (Large)   \n115       Beverages                                 Diet Coke (Medium)   \n114       Beverages                                  Diet Coke (Small)   \n146    Coffee & Tea                                    Coffee (Medium)   \n\n        Serving Size  Calories  Calories from Fat  Total Fat  \n82   22.8 oz (646 g)      1880               1060      118.0  \n32   15.3 oz (434 g)      1150                540       60.0  \n31   14.8 oz (420 g)      1090                510       56.0  \n34   15.4 oz (437 g)      1050                450       50.0  \n33   14.9 oz (423 g)       990                410       46.0  \n..               ...       ...                ...        ...  \n117     12 fl oz cup         0                  0        0.0  \n116     30 fl oz cup         0                  0        0.0  \n115     21 fl oz cup         0                  0        0.0  \n114     16 fl oz cup         0                  0        0.0  \n146     16 fl oz cup         0                  0        0.0  \n\n[260 rows x 6 columns]"
         },
         "metadata": {},
         "output_type": "display_data"
        }
       ]
      }
     },
     "f3c37484ba60424e970420bf7926253b": {
      "model_module": "@jupyter-widgets/base",
      "model_module_version": "1.2.0",
      "model_name": "LayoutModel",
      "state": {}
     },
     "f3cd5932d7d2453da16b3b705b616946": {
      "model_module": "@jupyter-widgets/base",
      "model_module_version": "1.2.0",
      "model_name": "LayoutModel",
      "state": {}
     },
     "f4dbccb700e64dde90db6c6ce6826380": {
      "model_module": "@jupyter-widgets/controls",
      "model_module_version": "1.5.0",
      "model_name": "VBoxModel",
      "state": {
       "_dom_classes": [
        "widget-interact"
       ],
       "children": [
        "IPY_MODEL_35711e2c274a403eb6517b6aaa6ffffb",
        "IPY_MODEL_1954d7ffb4e74728867a7bb5bd7fcd70"
       ],
       "layout": "IPY_MODEL_a117425ac7c74379b359c270ca49dddb"
      }
     },
     "f74fcd835a704435bf854cc1741d31aa": {
      "model_module": "@jupyter-widgets/controls",
      "model_module_version": "1.5.0",
      "model_name": "DescriptionStyleModel",
      "state": {
       "description_width": ""
      }
     },
     "f9bf7c903acd47ccb21364cefd50ee5e": {
      "model_module": "@jupyter-widgets/controls",
      "model_module_version": "1.5.0",
      "model_name": "VBoxModel",
      "state": {
       "_dom_classes": [
        "widget-interact"
       ],
       "children": [
        "IPY_MODEL_984456e385164240941fcb8b89fb6a2e",
        "IPY_MODEL_7ae86993f91749ee85360f2dc6afc1b3"
       ],
       "layout": "IPY_MODEL_c3f9d5689b85410dad675bd77edeaabc"
      }
     },
     "fab476cc9d5645d6837396181d9e9c2a": {
      "model_module": "@jupyter-widgets/base",
      "model_module_version": "1.2.0",
      "model_name": "LayoutModel",
      "state": {}
     },
     "fc726710c1874c97969511300ef68eaa": {
      "model_module": "@jupyter-widgets/base",
      "model_module_version": "1.2.0",
      "model_name": "LayoutModel",
      "state": {}
     },
     "fff7536f0d4a4eba88f27a1c13b2ffbe": {
      "model_module": "@jupyter-widgets/base",
      "model_module_version": "1.2.0",
      "model_name": "LayoutModel",
      "state": {}
     }
    },
    "version_major": 2,
    "version_minor": 0
   }
  }
 },
 "nbformat": 4,
 "nbformat_minor": 5
}
